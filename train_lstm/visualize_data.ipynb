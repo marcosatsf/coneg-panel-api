{
    "cells": [
        {
            "cell_type": "code",
            "execution_count": 3,
            "source": [
                "df_loaded.head()"
            ],
            "outputs": [
                {
                    "output_type": "execute_result",
                    "data": {
                        "text/html": [
                            "<div>\n",
                            "<style scoped>\n",
                            "    .dataframe tbody tr th:only-of-type {\n",
                            "        vertical-align: middle;\n",
                            "    }\n",
                            "\n",
                            "    .dataframe tbody tr th {\n",
                            "        vertical-align: top;\n",
                            "    }\n",
                            "\n",
                            "    .dataframe thead th {\n",
                            "        text-align: right;\n",
                            "    }\n",
                            "</style>\n",
                            "<table border=\"1\" class=\"dataframe\">\n",
                            "  <thead>\n",
                            "    <tr style=\"text-align: right;\">\n",
                            "      <th></th>\n",
                            "      <th>nome_munic</th>\n",
                            "      <th>datahora</th>\n",
                            "      <th>casos_novos</th>\n",
                            "    </tr>\n",
                            "  </thead>\n",
                            "  <tbody>\n",
                            "    <tr>\n",
                            "      <th>0</th>\n",
                            "      <td>Adamantina</td>\n",
                            "      <td>2020-02-25</td>\n",
                            "      <td>0</td>\n",
                            "    </tr>\n",
                            "    <tr>\n",
                            "      <th>1</th>\n",
                            "      <td>Adolfo</td>\n",
                            "      <td>2020-02-25</td>\n",
                            "      <td>0</td>\n",
                            "    </tr>\n",
                            "    <tr>\n",
                            "      <th>2</th>\n",
                            "      <td>Aguaí</td>\n",
                            "      <td>2020-02-25</td>\n",
                            "      <td>0</td>\n",
                            "    </tr>\n",
                            "    <tr>\n",
                            "      <th>3</th>\n",
                            "      <td>Águas da Prata</td>\n",
                            "      <td>2020-02-25</td>\n",
                            "      <td>0</td>\n",
                            "    </tr>\n",
                            "    <tr>\n",
                            "      <th>4</th>\n",
                            "      <td>Águas de Lindóia</td>\n",
                            "      <td>2020-02-25</td>\n",
                            "      <td>0</td>\n",
                            "    </tr>\n",
                            "  </tbody>\n",
                            "</table>\n",
                            "</div>"
                        ],
                        "text/plain": [
                            "         nome_munic    datahora  casos_novos\n",
                            "0        Adamantina  2020-02-25            0\n",
                            "1            Adolfo  2020-02-25            0\n",
                            "2             Aguaí  2020-02-25            0\n",
                            "3    Águas da Prata  2020-02-25            0\n",
                            "4  Águas de Lindóia  2020-02-25            0"
                        ]
                    },
                    "metadata": {},
                    "execution_count": 3
                }
            ],
            "metadata": {}
        },
        {
            "cell_type": "code",
            "execution_count": 4,
            "source": [
                "df_filtered = df_loaded[df_loaded.nome_munic=='Indaiatuba']\r\n",
                "df_cases = df_filtered[:]['casos_novos'].values.astype('float32')\r\n",
                "df_cases"
            ],
            "outputs": [
                {
                    "output_type": "execute_result",
                    "data": {
                        "text/plain": [
                            "array([  0.,   0.,   0.,   0.,   0.,   0.,   0.,   0.,   0.,   0.,   0.,\n",
                            "         0.,   0.,   0.,   0.,   0.,   0.,   0.,   0.,   0.,   0.,   0.,\n",
                            "         0.,   0.,   0.,   0.,   0.,   0.,   0.,   0.,   0.,   0.,   0.,\n",
                            "         0.,   0.,   0.,   2.,   0.,   0.,   0.,   0.,   0.,   1.,   0.,\n",
                            "         0.,   0.,   1.,   0.,   0.,   0.,   0.,   2.,   3.,   0.,   0.,\n",
                            "         0.,   0.,   0.,   4.,   1.,   0.,   0.,   2.,   6.,   2.,   1.,\n",
                            "         3.,   0.,   0.,   0.,   2.,   3.,   2.,   0.,   1.,   0.,   0.,\n",
                            "         3.,   3.,   1.,   1.,  13.,   0.,   1.,   6.,   1.,  14.,  15.,\n",
                            "         3.,   3.,   0.,   2.,   1.,  14.,  10.,   1.,   2.,  16.,   5.,\n",
                            "         4.,   3.,   7.,  14.,   3.,   0.,   3.,   3.,   4.,   1.,   4.,\n",
                            "         2.,   2.,   5.,   0.,   3.,  78.,  30.,   1.,   0.,  49.,  30.,\n",
                            "        36.,  52.,  40.,   9.,   1.,  53.,  39.,  59.,  57.,   0.,   4.,\n",
                            "         5.,  20.,  21.,  12.,  10.,  12.,   2.,   4.,  18.,  16.,  32.,\n",
                            "        22.,   3.,   2.,   5.,  18.,  20.,  14.,  52.,  76.,   4.,   2.,\n",
                            "        67.,  81.,  62.,  72.,  32.,   6.,   5.,  82., 113., 130., 117.,\n",
                            "        67.,   3.,   4., 109.,  81., 113.,  52.,  29.,   8.,   3.,  24.,\n",
                            "        35.,  19.,  13.,  30.,   0.,   4.,  43.,  40.,  20.,  66.,  18.,\n",
                            "         9.,   5.,  19.,  40.,  39.,  36.,  27.,   4.,   5.,   4.,  35.,\n",
                            "         7.,  16.,  13.,   2.,   3.,  17.,   9.,   8.,   8.,  15.,   1.,\n",
                            "         0.,  29.,  55.,  27.,  11.,  16.,   0.,   1.,   8.,  19.,   6.,\n",
                            "        18.,  28.,   0.,   0.,  40.,  26., 182.,  95.,  94.,   2.,  12.,\n",
                            "         2.,  99., 158., 162.,  85.,   2.,   0.,  62.,  38.,  46.,  87.,\n",
                            "        61.,   1.,   0.,  56.,  61., 101.,  59.,   0.,   0.,   4.,  19.,\n",
                            "        10.,   8.,   0.,   0.,   0.,   0., 414.,  91., 127.,  75., 121.,\n",
                            "         2.,   2.,  62.,  40.,  56.,  57.,  55.,   2.,   5.,  31.,  48.,\n",
                            "        37.,  37.,  44.,  13.,   3., 125., 182., 302., 285., 215.,  26.,\n",
                            "        25., 251., 216., 304., 202., 231., 152., 237., 152.,   0., 661.,\n",
                            "       261., 312.,   0., 147., 260., 200.,  24.,  17.,  19.,   9.,   7.,\n",
                            "        41.,  47.,  48.,   9.,   5.,  14.,  15.,  71.,  84.,  99.,  96.,\n",
                            "        98.,  14.,  11.,  71., 111.,  76.,  83.,  68.,  19.,   6., 123.,\n",
                            "       115., 191.,  44., 145.,   9.,  19., 135.,  73., 105., 131.,  88.,\n",
                            "         4.,   2.,  11.,   8.,  58.,  36.,  63.,  13.,   7.,  55.,  63.,\n",
                            "       138., 118.,  52.,   8.,  10., 124., 162.,  72., 101., 113.,   6.,\n",
                            "         9., 110.,  91.,  59.,  55.,  26.,  16.,   4.,  11.,  26.,  39.,\n",
                            "        61.,  50.,  10.,  11.,  50.,  73.,  51.,  74.,  57.,  36.,   8.,\n",
                            "        55.,  44.,  63.,  69.,  93.,  23.,  14.,  54.,  84.,  58.,  33.,\n",
                            "        24., 120., 144.,  29.,  36., 115.,  54.,  19.,  12.,  12.,  37.,\n",
                            "       101.,  82.,  69.,  83.,  27.,  11.,  50.,  61.,  75.,  34.,  37.,\n",
                            "        59.,   4.,  50.,  63.,  12.,  61.,  67.,  23.,  21.,  75.,  72.,\n",
                            "        53.,  72., 124.,  16.,  21.,  92.,  59.,  91.,  99.,  90.,  22.,\n",
                            "         8.,  96.,  58.,  90.,  71.,  86.,  34.,  32.,  73., 107., 121.,\n",
                            "        84., 150.,  52.,  33.,  64.,  79.,  22.,  22.,  77., 151., 116.,\n",
                            "       112., 171., 137.,  44.,  93.,  52.,  81.,  15.,  22.,  51., 186.,\n",
                            "        85.,  47.,  34., 116., 104.,  54., 107., 157.,  41.,  17., 270.,\n",
                            "       264., 169., 258., 184.,  43.,  63.,  86.,  58., 151., 143.,  88.,\n",
                            "        24.,  12., 150., 134., 138., 188.,  17.,  43.,   8.,  44.,  76.,\n",
                            "        39.,  35.,  65.,  10.,  12.,  34.,  90.,  89.,  62.,  37.,  11.,\n",
                            "        10.,  60.,  80.,  75.,  28.,  96.,  19.,  17.,  76.,  76., 112.,\n",
                            "        84., 118.], dtype=float32)"
                        ]
                    },
                    "metadata": {},
                    "execution_count": 4
                }
            ],
            "metadata": {}
        },
        {
            "cell_type": "code",
            "execution_count": 5,
            "source": [
                "df_filtered[:][-5:]"
            ],
            "outputs": [
                {
                    "output_type": "execute_result",
                    "data": {
                        "text/html": [
                            "<div>\n",
                            "<style scoped>\n",
                            "    .dataframe tbody tr th:only-of-type {\n",
                            "        vertical-align: middle;\n",
                            "    }\n",
                            "\n",
                            "    .dataframe tbody tr th {\n",
                            "        vertical-align: top;\n",
                            "    }\n",
                            "\n",
                            "    .dataframe thead th {\n",
                            "        text-align: right;\n",
                            "    }\n",
                            "</style>\n",
                            "<table border=\"1\" class=\"dataframe\">\n",
                            "  <thead>\n",
                            "    <tr style=\"text-align: right;\">\n",
                            "      <th></th>\n",
                            "      <th>nome_munic</th>\n",
                            "      <th>datahora</th>\n",
                            "      <th>casos_novos</th>\n",
                            "    </tr>\n",
                            "  </thead>\n",
                            "  <tbody>\n",
                            "    <tr>\n",
                            "      <th>338860</th>\n",
                            "      <td>Indaiatuba</td>\n",
                            "      <td>2021-08-03</td>\n",
                            "      <td>76</td>\n",
                            "    </tr>\n",
                            "    <tr>\n",
                            "      <th>339505</th>\n",
                            "      <td>Indaiatuba</td>\n",
                            "      <td>2021-08-04</td>\n",
                            "      <td>76</td>\n",
                            "    </tr>\n",
                            "    <tr>\n",
                            "      <th>340150</th>\n",
                            "      <td>Indaiatuba</td>\n",
                            "      <td>2021-08-05</td>\n",
                            "      <td>112</td>\n",
                            "    </tr>\n",
                            "    <tr>\n",
                            "      <th>340795</th>\n",
                            "      <td>Indaiatuba</td>\n",
                            "      <td>2021-08-06</td>\n",
                            "      <td>84</td>\n",
                            "    </tr>\n",
                            "    <tr>\n",
                            "      <th>341440</th>\n",
                            "      <td>Indaiatuba</td>\n",
                            "      <td>2021-08-07</td>\n",
                            "      <td>118</td>\n",
                            "    </tr>\n",
                            "  </tbody>\n",
                            "</table>\n",
                            "</div>"
                        ],
                        "text/plain": [
                            "        nome_munic    datahora  casos_novos\n",
                            "338860  Indaiatuba  2021-08-03           76\n",
                            "339505  Indaiatuba  2021-08-04           76\n",
                            "340150  Indaiatuba  2021-08-05          112\n",
                            "340795  Indaiatuba  2021-08-06           84\n",
                            "341440  Indaiatuba  2021-08-07          118"
                        ]
                    },
                    "metadata": {},
                    "execution_count": 5
                }
            ],
            "metadata": {}
        },
        {
            "cell_type": "code",
            "execution_count": 332,
            "source": [
                "from tensorflow.keras.models import Sequential, load_model\r\n",
                "from tensorflow.keras.callbacks import LambdaCallback, ModelCheckpoint,ReduceLROnPlateau\r\n",
                "from tensorflow.keras.layers import Dense, LSTM, Dropout, Activation, GRU\r\n",
                "from sklearn.preprocessing import MinMaxScaler\r\n",
                "from sklearn.metrics import mean_squared_error, mean_absolute_error\r\n",
                "import matplotlib.pyplot as plt\r\n",
                "import numpy as np\r\n",
                "import math\r\n",
                "import os\r\n",
                "import pandas as pd\r\n",
                "\r\n",
                "url_repo = 'https://raw.githubusercontent.com/seade-R/dados-covid-sp/master/data/dados_covid_sp.csv'\r\n",
                "#url_repo = 'dados_covid_sp.csv'\r\n",
                "df_loaded = pd.read_csv(url_repo, delimiter=';', usecols=['nome_munic','casos_novos','datahora'])\r\n",
                "data = {'city':'Indaiatuba'}\r\n",
                "df_filtered = df_loaded[df_loaded.nome_munic==data['city']]\r\n",
                "\r\n",
                "def create_dataset(dataset, look_back=1):\r\n",
                "    dataX, dataY = [], []\r\n",
                "    for i in range(len(dataset)-look_back):\r\n",
                "        dataX.append(dataset[i:(i+look_back), 0])\r\n",
                "        dataY.append(dataset[i + look_back, 0])\r\n",
                "    return np.array(dataX), np.array(dataY)\r\n",
                "df_cases = df_filtered[:]['casos_novos'].values.astype('float32')\r\n",
                "df_cases = df_cases.reshape(len(df_cases),1)\r\n",
                "\r\n",
                "scaler = MinMaxScaler(feature_range=(0, 1))\r\n",
                "df_cases = scaler.fit_transform(df_cases)\r\n"
            ],
            "outputs": [],
            "metadata": {}
        },
        {
            "cell_type": "code",
            "execution_count": 501,
            "source": [
                "train_size = int(len(df_cases) * 0.8)\r\n",
                "test_size = len(df_cases) - train_size\r\n",
                "train, test = df_cases[0:train_size, :], df_cases[train_size:len(df_cases)+1, :]\r\n",
                "print(len(train), len(test))"
            ],
            "outputs": [
                {
                    "output_type": "stream",
                    "name": "stdout",
                    "text": [
                        "472 118\n"
                    ]
                }
            ],
            "metadata": {}
        },
        {
            "cell_type": "code",
            "execution_count": 502,
            "source": [
                "look_back = 7\r\n",
                "trainX, trainY = create_dataset(train, look_back)\r\n",
                "testX, testY = create_dataset(test, look_back)\r\n",
                "\r\n",
                "# reshape input to be [samples, time steps, features]\r\n",
                "trainX = np.reshape(trainX, (trainX.shape[0], 1, trainX.shape[1]))\r\n",
                "testX = np.reshape(testX, (testX.shape[0], 1, testX.shape[1]))"
            ],
            "outputs": [],
            "metadata": {}
        },
        {
            "cell_type": "code",
            "execution_count": 503,
            "source": [
                "from tensorflow.keras.optimizers import SGD\r\n",
                "\r\n",
                "hidden_nodes = int(2/3 * look_back)\r\n",
                "model = Sequential()\r\n",
                "model.add(LSTM(128, input_shape=(1, look_back)))\r\n",
                "model.add(Dropout(0.055))\r\n",
                "# model.add(LSTM(64, input_shape=(1, look_back)))\r\n",
                "model.add(Dense(256))\r\n",
                "#model.add(Dense(1, activation='tanh'))\r\n",
                "model.add(Dense(1, activation='tanh'))\r\n",
                "model.compile(loss='mean_absolute_error', optimizer='adam', metrics=['mse'])\r\n",
                "\r\n",
                "history = model.fit(trainX, trainY, validation_data=(testX, testY), epochs=60, batch_size=2, verbose=1)"
            ],
            "outputs": [
                {
                    "output_type": "stream",
                    "name": "stdout",
                    "text": [
                        "Epoch 1/60\n",
                        "155/155 [==============================] - 1s 4ms/step - loss: 0.0450 - mse: 0.0062 - val_loss: 0.0464 - val_mse: 0.0045\n",
                        "Epoch 2/60\n",
                        "155/155 [==============================] - 0s 1ms/step - loss: 0.0477 - mse: 0.0075 - val_loss: 0.0456 - val_mse: 0.0053\n",
                        "Epoch 3/60\n",
                        "155/155 [==============================] - 0s 1ms/step - loss: 0.0512 - mse: 0.0103 - val_loss: 0.0425 - val_mse: 0.0043\n",
                        "Epoch 4/60\n",
                        "155/155 [==============================] - 0s 2ms/step - loss: 0.0431 - mse: 0.0054 - val_loss: 0.0429 - val_mse: 0.0046\n",
                        "Epoch 5/60\n",
                        "155/155 [==============================] - 0s 1ms/step - loss: 0.0409 - mse: 0.0055 - val_loss: 0.0416 - val_mse: 0.0042\n",
                        "Epoch 6/60\n",
                        "155/155 [==============================] - 0s 1ms/step - loss: 0.0396 - mse: 0.0059 - val_loss: 0.0409 - val_mse: 0.0041\n",
                        "Epoch 7/60\n",
                        "155/155 [==============================] - 0s 1ms/step - loss: 0.0421 - mse: 0.0049 - val_loss: 0.0414 - val_mse: 0.0043\n",
                        "Epoch 8/60\n",
                        "155/155 [==============================] - 0s 2ms/step - loss: 0.0454 - mse: 0.0085 - val_loss: 0.0418 - val_mse: 0.0043\n",
                        "Epoch 9/60\n",
                        "155/155 [==============================] - 0s 2ms/step - loss: 0.0414 - mse: 0.0078 - val_loss: 0.0409 - val_mse: 0.0042\n",
                        "Epoch 10/60\n",
                        "155/155 [==============================] - 0s 2ms/step - loss: 0.0425 - mse: 0.0047 - val_loss: 0.0438 - val_mse: 0.0045\n",
                        "Epoch 11/60\n",
                        "155/155 [==============================] - 0s 1ms/step - loss: 0.0430 - mse: 0.0049 - val_loss: 0.0420 - val_mse: 0.0043\n",
                        "Epoch 12/60\n",
                        "155/155 [==============================] - 0s 2ms/step - loss: 0.0427 - mse: 0.0105 - val_loss: 0.0431 - val_mse: 0.0046\n",
                        "Epoch 13/60\n",
                        "155/155 [==============================] - 0s 2ms/step - loss: 0.0391 - mse: 0.0050 - val_loss: 0.0425 - val_mse: 0.0046\n",
                        "Epoch 14/60\n",
                        "155/155 [==============================] - 0s 2ms/step - loss: 0.0392 - mse: 0.0047 - val_loss: 0.0404 - val_mse: 0.0042\n",
                        "Epoch 15/60\n",
                        "155/155 [==============================] - 0s 1ms/step - loss: 0.0392 - mse: 0.0073 - val_loss: 0.0457 - val_mse: 0.0056\n",
                        "Epoch 16/60\n",
                        "155/155 [==============================] - 0s 2ms/step - loss: 0.0440 - mse: 0.0059 - val_loss: 0.0431 - val_mse: 0.0047\n",
                        "Epoch 17/60\n",
                        "155/155 [==============================] - 0s 2ms/step - loss: 0.0438 - mse: 0.0064 - val_loss: 0.0419 - val_mse: 0.0045\n",
                        "Epoch 18/60\n",
                        "155/155 [==============================] - 0s 1ms/step - loss: 0.0353 - mse: 0.0044 - val_loss: 0.0409 - val_mse: 0.0043\n",
                        "Epoch 19/60\n",
                        "155/155 [==============================] - 0s 2ms/step - loss: 0.0392 - mse: 0.0078 - val_loss: 0.0419 - val_mse: 0.0045\n",
                        "Epoch 20/60\n",
                        "155/155 [==============================] - 0s 2ms/step - loss: 0.0352 - mse: 0.0035 - val_loss: 0.0429 - val_mse: 0.0047\n",
                        "Epoch 21/60\n",
                        "155/155 [==============================] - 0s 2ms/step - loss: 0.0386 - mse: 0.0045 - val_loss: 0.0409 - val_mse: 0.0044\n",
                        "Epoch 22/60\n",
                        "155/155 [==============================] - 0s 2ms/step - loss: 0.0411 - mse: 0.0069 - val_loss: 0.0450 - val_mse: 0.0044\n",
                        "Epoch 23/60\n",
                        "155/155 [==============================] - 0s 2ms/step - loss: 0.0412 - mse: 0.0068 - val_loss: 0.0453 - val_mse: 0.0053\n",
                        "Epoch 24/60\n",
                        "155/155 [==============================] - 0s 1ms/step - loss: 0.0459 - mse: 0.0072 - val_loss: 0.0424 - val_mse: 0.0046\n",
                        "Epoch 25/60\n",
                        "155/155 [==============================] - 0s 2ms/step - loss: 0.0389 - mse: 0.0055 - val_loss: 0.0409 - val_mse: 0.0044\n",
                        "Epoch 26/60\n",
                        "155/155 [==============================] - 0s 2ms/step - loss: 0.0397 - mse: 0.0062 - val_loss: 0.0436 - val_mse: 0.0049\n",
                        "Epoch 27/60\n",
                        "155/155 [==============================] - 0s 2ms/step - loss: 0.0416 - mse: 0.0071 - val_loss: 0.0422 - val_mse: 0.0046\n",
                        "Epoch 28/60\n",
                        "155/155 [==============================] - 0s 2ms/step - loss: 0.0395 - mse: 0.0063 - val_loss: 0.0438 - val_mse: 0.0050\n",
                        "Epoch 29/60\n",
                        "155/155 [==============================] - 0s 2ms/step - loss: 0.0433 - mse: 0.0057 - val_loss: 0.0444 - val_mse: 0.0051\n",
                        "Epoch 30/60\n",
                        "155/155 [==============================] - 0s 2ms/step - loss: 0.0418 - mse: 0.0074 - val_loss: 0.0409 - val_mse: 0.0043\n",
                        "Epoch 31/60\n",
                        "155/155 [==============================] - 0s 1ms/step - loss: 0.0373 - mse: 0.0056 - val_loss: 0.0448 - val_mse: 0.0044\n",
                        "Epoch 32/60\n",
                        "155/155 [==============================] - 0s 2ms/step - loss: 0.0394 - mse: 0.0061 - val_loss: 0.0425 - val_mse: 0.0045\n",
                        "Epoch 33/60\n",
                        "155/155 [==============================] - 0s 2ms/step - loss: 0.0356 - mse: 0.0034 - val_loss: 0.0478 - val_mse: 0.0054\n",
                        "Epoch 34/60\n",
                        "155/155 [==============================] - 0s 2ms/step - loss: 0.0352 - mse: 0.0039 - val_loss: 0.0463 - val_mse: 0.0054\n",
                        "Epoch 35/60\n",
                        "155/155 [==============================] - 0s 2ms/step - loss: 0.0395 - mse: 0.0055 - val_loss: 0.0408 - val_mse: 0.0043\n",
                        "Epoch 36/60\n",
                        "155/155 [==============================] - 0s 2ms/step - loss: 0.0387 - mse: 0.0042 - val_loss: 0.0465 - val_mse: 0.0046\n",
                        "Epoch 37/60\n",
                        "155/155 [==============================] - 0s 2ms/step - loss: 0.0390 - mse: 0.0051 - val_loss: 0.0424 - val_mse: 0.0045\n",
                        "Epoch 38/60\n",
                        "155/155 [==============================] - 0s 2ms/step - loss: 0.0388 - mse: 0.0056 - val_loss: 0.0409 - val_mse: 0.0043\n",
                        "Epoch 39/60\n",
                        "155/155 [==============================] - 0s 2ms/step - loss: 0.0327 - mse: 0.0033 - val_loss: 0.0406 - val_mse: 0.0043\n",
                        "Epoch 40/60\n",
                        "155/155 [==============================] - 0s 2ms/step - loss: 0.0378 - mse: 0.0054 - val_loss: 0.0421 - val_mse: 0.0045\n",
                        "Epoch 41/60\n",
                        "155/155 [==============================] - 0s 2ms/step - loss: 0.0404 - mse: 0.0067 - val_loss: 0.0552 - val_mse: 0.0052\n",
                        "Epoch 42/60\n",
                        "155/155 [==============================] - 0s 2ms/step - loss: 0.0421 - mse: 0.0079 - val_loss: 0.0428 - val_mse: 0.0048\n",
                        "Epoch 43/60\n",
                        "155/155 [==============================] - 0s 2ms/step - loss: 0.0380 - mse: 0.0049 - val_loss: 0.0417 - val_mse: 0.0045\n",
                        "Epoch 44/60\n",
                        "155/155 [==============================] - 0s 1ms/step - loss: 0.0356 - mse: 0.0051 - val_loss: 0.0418 - val_mse: 0.0045\n",
                        "Epoch 45/60\n",
                        "155/155 [==============================] - 0s 1ms/step - loss: 0.0408 - mse: 0.0071 - val_loss: 0.0411 - val_mse: 0.0044\n",
                        "Epoch 46/60\n",
                        "155/155 [==============================] - 0s 2ms/step - loss: 0.0343 - mse: 0.0044 - val_loss: 0.0422 - val_mse: 0.0046\n",
                        "Epoch 47/60\n",
                        "155/155 [==============================] - 0s 2ms/step - loss: 0.0362 - mse: 0.0036 - val_loss: 0.0463 - val_mse: 0.0048\n",
                        "Epoch 48/60\n",
                        "155/155 [==============================] - 0s 2ms/step - loss: 0.0440 - mse: 0.0062 - val_loss: 0.0426 - val_mse: 0.0043\n",
                        "Epoch 49/60\n",
                        "155/155 [==============================] - 0s 2ms/step - loss: 0.0366 - mse: 0.0059 - val_loss: 0.0421 - val_mse: 0.0044\n",
                        "Epoch 50/60\n",
                        "155/155 [==============================] - 0s 2ms/step - loss: 0.0340 - mse: 0.0044 - val_loss: 0.0434 - val_mse: 0.0044\n",
                        "Epoch 51/60\n",
                        "155/155 [==============================] - 0s 1ms/step - loss: 0.0411 - mse: 0.0057 - val_loss: 0.0410 - val_mse: 0.0044\n",
                        "Epoch 52/60\n",
                        "155/155 [==============================] - 0s 1ms/step - loss: 0.0405 - mse: 0.0086 - val_loss: 0.0415 - val_mse: 0.0044\n",
                        "Epoch 53/60\n",
                        "155/155 [==============================] - 0s 2ms/step - loss: 0.0381 - mse: 0.0059 - val_loss: 0.0419 - val_mse: 0.0046\n",
                        "Epoch 54/60\n",
                        "155/155 [==============================] - 0s 2ms/step - loss: 0.0367 - mse: 0.0058 - val_loss: 0.0414 - val_mse: 0.0043\n",
                        "Epoch 55/60\n",
                        "155/155 [==============================] - 0s 1ms/step - loss: 0.0385 - mse: 0.0051 - val_loss: 0.0448 - val_mse: 0.0052\n",
                        "Epoch 56/60\n",
                        "155/155 [==============================] - 0s 2ms/step - loss: 0.0375 - mse: 0.0038 - val_loss: 0.0406 - val_mse: 0.0042\n",
                        "Epoch 57/60\n",
                        "155/155 [==============================] - 0s 2ms/step - loss: 0.0393 - mse: 0.0068 - val_loss: 0.0414 - val_mse: 0.0043\n",
                        "Epoch 58/60\n",
                        "155/155 [==============================] - 0s 2ms/step - loss: 0.0383 - mse: 0.0048 - val_loss: 0.0421 - val_mse: 0.0045\n",
                        "Epoch 59/60\n",
                        "155/155 [==============================] - 0s 2ms/step - loss: 0.0374 - mse: 0.0058 - val_loss: 0.0421 - val_mse: 0.0044\n",
                        "Epoch 60/60\n",
                        "155/155 [==============================] - 0s 2ms/step - loss: 0.0381 - mse: 0.0059 - val_loss: 0.0417 - val_mse: 0.0041\n"
                    ]
                }
            ],
            "metadata": {}
        },
        {
            "cell_type": "code",
            "execution_count": 504,
            "source": [
                "# evaluate the model\r\n",
                "#trainY = scaler.inverse_transform(trainY)\r\n",
                "#testY = scaler.inverse_transform(testY)\r\n",
                "_, train_mse = model.evaluate(trainX, trainY, verbose=0)\r\n",
                "_, test_mse = model.evaluate(testX, testY, verbose=0)\r\n",
                "print('Train: %.3f, Test: %.3f' % (train_mse, test_mse))"
            ],
            "outputs": [
                {
                    "output_type": "stream",
                    "name": "stdout",
                    "text": [
                        "Train: 0.006, Test: 0.004\n"
                    ]
                }
            ],
            "metadata": {}
        },
        {
            "cell_type": "code",
            "execution_count": 505,
            "source": [
                "# plot loss during training\r\n",
                "plt.subplot(211)\r\n",
                "plt.title('Loss')\r\n",
                "plt.plot(history.history['loss'], label='train')\r\n",
                "plt.plot(history.history['val_loss'], label='test')\r\n",
                "plt.legend()\r\n",
                "# plot mse during training\r\n",
                "plt.subplot(212)\r\n",
                "plt.title('Mean Squared Error')\r\n",
                "plt.plot(history.history['mse'], label='train')\r\n",
                "plt.plot(history.history['val_mse'], label='test')\r\n",
                "plt.legend()\r\n",
                "plt.show()"
            ],
            "outputs": [
                {
                    "output_type": "display_data",
                    "data": {
                        "image/png": "[encoded data removed]",
                        "text/plain": [
                            "<Figure size 432x288 with 2 Axes>"
                        ]
                    },
                    "metadata": {
                        "needs_background": "light"
                    }
                }
            ],
            "metadata": {}
        },
        {
            "cell_type": "code",
            "execution_count": 506,
            "source": [
                "score = model.summary()\r\n",
                "print(score)"
            ],
            "outputs": [
                {
                    "output_type": "stream",
                    "name": "stdout",
                    "text": [
                        "Model: \"sequential_50\"\n",
                        "_________________________________________________________________\n",
                        "Layer (type)                 Output Shape              Param #   \n",
                        "=================================================================\n",
                        "lstm_61 (LSTM)               (None, 128)               69632     \n",
                        "_________________________________________________________________\n",
                        "dropout_21 (Dropout)         (None, 128)               0         \n",
                        "_________________________________________________________________\n",
                        "dense_76 (Dense)             (None, 256)               33024     \n",
                        "_________________________________________________________________\n",
                        "dense_77 (Dense)             (None, 1)                 257       \n",
                        "=================================================================\n",
                        "Total params: 102,913\n",
                        "Trainable params: 102,913\n",
                        "Non-trainable params: 0\n",
                        "_________________________________________________________________\n",
                        "None\n"
                    ]
                }
            ],
            "metadata": {}
        },
        {
            "cell_type": "code",
            "execution_count": 507,
            "source": [
                "# make predictions\r\n",
                "trainPredict = model.predict(trainX)\r\n",
                "testPredict = model.predict(testX)\r\n",
                "# invert predictions\r\n",
                "trainPredict = scaler.inverse_transform(trainPredict)\r\n",
                "trainY = scaler.inverse_transform([trainY])\r\n",
                "testPredict = scaler.inverse_transform(testPredict)\r\n",
                "testY = scaler.inverse_transform([testY])"
            ],
            "outputs": [],
            "metadata": {}
        },
        {
            "cell_type": "code",
            "execution_count": null,
            "source": [],
            "outputs": [],
            "metadata": {}
        },
        {
            "cell_type": "code",
            "execution_count": 508,
            "source": [
                "# calculate root mean squared error\r\n",
                "trainScore = math.sqrt(mean_squared_error(trainY[0], trainPredict[:,0]))\r\n",
                "print('Train Score: %.2f RMSE' % (trainScore))\r\n",
                "trainScore = mean_absolute_error(trainY[0], trainPredict[:,0])\r\n",
                "print('Train Score: %.2f MAE' % (trainScore))\r\n",
                "testScore = math.sqrt(mean_squared_error(testY[0], testPredict[:,0]))\r\n",
                "print('Test Score: %.2f RMSE' % (testScore))\r\n",
                "testScore = mean_absolute_error(testY[0], testPredict[:,0])\r\n",
                "print('Test Score: %.2f MAE' % (testScore))\r\n"
            ],
            "outputs": [
                {
                    "output_type": "stream",
                    "name": "stdout",
                    "text": [
                        "Train Score: 49.48 RMSE\n",
                        "Train Score: 25.72 MAE\n",
                        "Test Score: 42.52 RMSE\n",
                        "Test Score: 27.58 MAE\n"
                    ]
                }
            ],
            "metadata": {}
        },
        {
            "cell_type": "code",
            "execution_count": 509,
            "source": [
                "def mda(actual: np.ndarray, predicted: np.ndarray):\r\n",
                "    \"\"\" Mean Directional Accuracy \"\"\"\r\n",
                "    return np.mean((np.sign(actual[1:] - actual[:-1]) == np.sign(predicted[1:] - predicted[:-1])).astype(int))"
            ],
            "outputs": [],
            "metadata": {}
        },
        {
            "cell_type": "code",
            "execution_count": 510,
            "source": [
                "train_mda = mda(trainY[0], trainPredict[:,0])\r\n",
                "test_mda = mda(testY[0], testPredict[:,0])\r\n",
                "print('Train Score: %2.2f %% of MDA' % (train_mda*100))\r\n",
                "print('Test Score: %2.2f %% of MDA' % (test_mda*100))\r\n"
            ],
            "outputs": [
                {
                    "output_type": "stream",
                    "name": "stdout",
                    "text": [
                        "Train Score: 53.23 % of MDA\n",
                        "Test Score: 38.18 % of MDA\n"
                    ]
                }
            ],
            "metadata": {}
        },
        {
            "cell_type": "markdown",
            "source": [
                "Model: \"sequential_4\"\r\n",
                "_________________________________________________________________\r\n",
                "Layer (type)                 Output Shape              Param #   \r\n",
                "=================================================================\r\n",
                "lstm_9 (LSTM)                (None, 1, 128)            69632     \r\n",
                "_________________________________________________________________\r\n",
                "lstm_10 (LSTM)               (None, 128)               131584    \r\n",
                "_________________________________________________________________\r\n",
                "dense_9 (Dense)              (None, 128)               16512     \r\n",
                "_________________________________________________________________\r\n",
                "dense_10 (Dense)             (None, 1)                 129       \r\n",
                "=================================================================\r\n",
                "Total params: 217,857\r\n",
                "Trainable params: 217,857\r\n",
                "Non-trainable params: 0\r\n",
                "_________________________________________________________________\r\n",
                "None\r\n",
                "\r\n",
                "\r\n",
                "Train Score: 48.14 RMSE\r\n",
                "Train Score: 24.43 MAE\r\n",
                "Test Score: 50.52 RMSE\r\n",
                "Test Score: 37.64 MAE"
            ],
            "metadata": {}
        },
        {
            "cell_type": "code",
            "execution_count": 14,
            "source": [
                "# shift train predictions for plotting\r\n",
                "trainPredictPlot = np.empty_like(df_cases)\r\n",
                "trainPredictPlot[:, :] = np.nan\r\n",
                "trainPredictPlot[look_back-1:len(trainPredict)+look_back-1, :] = trainPredict"
            ],
            "outputs": [],
            "metadata": {}
        },
        {
            "cell_type": "code",
            "execution_count": 15,
            "source": [
                "# shift test predictions for plotting\r\n",
                "testPredictPlot = np.empty_like(df_cases)\r\n",
                "testPredictPlot[:, :] = np.nan\r\n",
                "testPredictPlot[-len(testPredict)-1:-1, :] = testPredict"
            ],
            "outputs": [],
            "metadata": {}
        },
        {
            "cell_type": "code",
            "execution_count": 11,
            "source": [
                "# plot baseline and predictions\r\n",
                "plt.plot(scaler.inverse_transform(df_cases), label='Original')\r\n",
                "plt.plot(trainPredictPlot , label='Predição do treino')\r\n",
                "plt.plot(testPredictPlot, label='Predição do teste')\r\n",
                "#plt.plot(scaler.inverse_transform([trainY]), label='?')\r\n",
                "plt.grid()\r\n",
                "plt.xlim(400, 550)\r\n",
                "plt.ylim(0, 200)\r\n",
                "plt.legend()\r\n",
                "plt.show()"
            ],
            "outputs": [
                {
                    "output_type": "display_data",
                    "data": {
                        "image/png": "[encoded data removed]",
                        "text/plain": [
                            "<Figure size 432x288 with 1 Axes>"
                        ]
                    },
                    "metadata": {
                        "needs_background": "light"
                    }
                }
            ],
            "metadata": {}
        },
        {
            "cell_type": "markdown",
            "source": [
                "<a href='https://www.linkedin.com/pulse/rmse-ou-mae-como-avaliar-meu-modelo-de-machine-learning-rezende/?originalSubdomain=pt'>rmse vs mae</a>"
            ],
            "metadata": {}
        },
        {
            "cell_type": "markdown",
            "source": [
                "Model: \"sequential_14\"\r\n",
                "_________________________________________________________________\r\n",
                "Layer (type)                 Output Shape              Param #   \r\n",
                "=================================================================\r\n",
                "lstm_14 (LSTM)               (None, 4)                 192       \r\n",
                "_________________________________________________________________\r\n",
                "dropout_7 (Dropout)          (None, 4)                 0         \r\n",
                "_________________________________________________________________\r\n",
                "dense_21 (Dense)             (None, 8)                 40        \r\n",
                "_________________________________________________________________\r\n",
                "dropout_8 (Dropout)          (None, 8)                 0         \r\n",
                "_________________________________________________________________\r\n",
                "dense_22 (Dense)             (None, 8)                 72        \r\n",
                "_________________________________________________________________\r\n",
                "dropout_9 (Dropout)          (None, 8)                 0         \r\n",
                "_________________________________________________________________\r\n",
                "dense_23 (Dense)             (None, 1)                 9         \r\n",
                "=================================================================\r\n",
                "Total params: 313\r\n",
                "Trainable params: 313\r\n",
                "Non-trainable params: 0\r\n",
                "_________________________________________________________________\r\n",
                "None\r\n",
                "\r\n",
                "Train Score: 48.76 RMSE"
            ],
            "metadata": {}
        },
        {
            "cell_type": "markdown",
            "source": [
                "Model: \"sequential\"\r\n",
                "_________________________________________________________________\r\n",
                "Layer (type)                 Output Shape              Param #   \r\n",
                "=================================================================\r\n",
                "lstm (LSTM)                  (None, 4)                 128       \r\n",
                "_________________________________________________________________\r\n",
                "dense (Dense)                (None, 1)                 5         \r\n",
                "=================================================================\r\n",
                "Total params: 133\r\n",
                "Trainable params: 133\r\n",
                "Non-trainable params: 0\r\n",
                "_________________________________________________________________\r\n",
                "None\r\n",
                "\r\n",
                "Train Score: 52.45 RMSE - Root Mean Squared Error"
            ],
            "metadata": {}
        },
        {
            "cell_type": "markdown",
            "source": [
                "Model: \"sequential_3\"\r\n",
                "_________________________________________________________________\r\n",
                "Layer (type)                 Output Shape              Param #   \r\n",
                "=================================================================\r\n",
                "lstm_3 (LSTM)                (None, 3)                 84        \r\n",
                "_________________________________________________________________\r\n",
                "dense_4 (Dense)              (None, 4)                 16        \r\n",
                "_________________________________________________________________\r\n",
                "dense_5 (Dense)              (None, 1)                 5         \r\n",
                "=================================================================\r\n",
                "Total params: 105\r\n",
                "Trainable params: 105\r\n",
                "Non-trainable params: 0\r\n",
                "_________________________________________________________________\r\n",
                "None\r\n",
                "\r\n",
                "Train Score: 52.48 RMSE"
            ],
            "metadata": {}
        },
        {
            "cell_type": "markdown",
            "source": [
                "Model: \"sequential_1\"\r\n",
                "_________________________________________________________________\r\n",
                "Layer (type)                 Output Shape              Param #   \r\n",
                "=================================================================\r\n",
                "lstm_1 (LSTM)                (None, 4)                 128       \r\n",
                "_________________________________________________________________\r\n",
                "dense_1 (Dense)              (None, 4)                 20        \r\n",
                "_________________________________________________________________\r\n",
                "dense_2 (Dense)              (None, 1)                 5         \r\n",
                "=================================================================\r\n",
                "Total params: 153\r\n",
                "Trainable params: 153\r\n",
                "Non-trainable params: 0\r\n",
                "_________________________________________________________________\r\n",
                "None\r\n",
                "\r\n",
                "Train Score: 52.59 RMSE"
            ],
            "metadata": {}
        },
        {
            "cell_type": "markdown",
            "source": [
                "Model: \"sequential_2\"\r\n",
                "_________________________________________________________________\r\n",
                "Layer (type)                 Output Shape              Param #   \r\n",
                "=================================================================\r\n",
                "lstm_2 (LSTM)                (None, 7)                 308       \r\n",
                "_________________________________________________________________\r\n",
                "dense_3 (Dense)              (None, 1)                 8         \r\n",
                "=================================================================\r\n",
                "Total params: 316\r\n",
                "Trainable params: 316\r\n",
                "Non-trainable params: 0\r\n",
                "_________________________________________________________________\r\n",
                "None\r\n",
                "\r\n",
                "Train Score: 52.65 RMSE"
            ],
            "metadata": {}
        },
        {
            "cell_type": "markdown",
            "source": [
                "Model: \"sequential_1\"\r\n",
                "_________________________________________________________________\r\n",
                "Layer (type)                 Output Shape              Param #   \r\n",
                "=================================================================\r\n",
                "lstm_1 (LSTM)                (None, 4)                 192       \r\n",
                "_________________________________________________________________\r\n",
                "dense_2 (Dense)              (None, 8)                 40        \r\n",
                "_________________________________________________________________\r\n",
                "dense_3 (Dense)              (None, 1)                 9         \r\n",
                "=================================================================\r\n",
                "Total params: 241\r\n",
                "Trainable params: 241\r\n",
                "Non-trainable params: 0\r\n",
                "_________________________________________________________________\r\n",
                "None\r\n",
                "\r\n",
                "Train Score: 50.81 RMSE"
            ],
            "metadata": {}
        },
        {
            "cell_type": "code",
            "execution_count": 66,
            "source": [
                "#trainX = np.reshape(trainX, (trainX.shape[0], 1, trainX.shape[1]))\r\n",
                "x = model.predict(df_cases[-7:].reshape(1, 1, 7))\r\n",
                "testPredict = scaler.inverse_transform(x)\r\n",
                "testPredict"
            ],
            "outputs": [
                {
                    "output_type": "execute_result",
                    "data": {
                        "text/plain": [
                            "array([[90.316154]], dtype=float32)"
                        ]
                    },
                    "metadata": {},
                    "execution_count": 66
                }
            ],
            "metadata": {}
        },
        {
            "cell_type": "code",
            "execution_count": 86,
            "source": [
                "cases = df_cases[-7:]\r\n",
                "new=np.append(cases,testPredict,axis=0)\r\n",
                "cases"
            ],
            "outputs": [
                {
                    "output_type": "execute_result",
                    "data": {
                        "text/plain": [
                            "array([[0.1149773 ],\n",
                            "       [0.16944024],\n",
                            "       [0.12708017],\n",
                            "       [0.17851739],\n",
                            "       [0.02118003],\n",
                            "       [0.00907716],\n",
                            "       [0.16641451]], dtype=float32)"
                        ]
                    },
                    "metadata": {},
                    "execution_count": 86
                }
            ],
            "metadata": {}
        },
        {
            "cell_type": "code",
            "execution_count": 83,
            "source": [
                "new"
            ],
            "outputs": [
                {
                    "output_type": "execute_result",
                    "data": {
                        "text/plain": [
                            "array([[1.1497730e-01],\n",
                            "       [1.6944024e-01],\n",
                            "       [1.2708017e-01],\n",
                            "       [1.7851739e-01],\n",
                            "       [2.1180030e-02],\n",
                            "       [9.0771560e-03],\n",
                            "       [1.6641451e-01],\n",
                            "       [9.0316154e+01]], dtype=float32)"
                        ]
                    },
                    "metadata": {},
                    "execution_count": 83
                }
            ],
            "metadata": {}
        },
        {
            "cell_type": "code",
            "execution_count": 85,
            "source": [
                "np.delete(new, 0, axis=0)"
            ],
            "outputs": [
                {
                    "output_type": "execute_result",
                    "data": {
                        "text/plain": [
                            "array([[1.6944024e-01],\n",
                            "       [1.2708017e-01],\n",
                            "       [1.7851739e-01],\n",
                            "       [2.1180030e-02],\n",
                            "       [9.0771560e-03],\n",
                            "       [1.6641451e-01],\n",
                            "       [9.0316154e+01]], dtype=float32)"
                        ]
                    },
                    "metadata": {},
                    "execution_count": 85
                }
            ],
            "metadata": {}
        },
        {
            "cell_type": "code",
            "execution_count": 11,
            "source": [
                "cases = df_cases[-7:]\r\n",
                "for _ in range(7):\r\n",
                "    pred_day = model.predict(cases.reshape(1, 1, 7))\r\n",
                "    cases = np.append(cases,pred_day,axis=0)\r\n",
                "    cases = np.delete(cases, 0, axis=0)\r\n",
                "eissoae = np.append(df_cases[-7:],cases,axis=0)"
            ],
            "outputs": [],
            "metadata": {}
        },
        {
            "cell_type": "code",
            "execution_count": 128,
            "source": [
                "eissoae"
            ],
            "outputs": [
                {
                    "output_type": "execute_result",
                    "data": {
                        "text/plain": [
                            "array([[0.1149773 ],\n",
                            "       [0.16944024],\n",
                            "       [0.12708017],\n",
                            "       [0.17851739],\n",
                            "       [0.02118003],\n",
                            "       [0.00907716],\n",
                            "       [0.16641451],\n",
                            "       [0.13663563],\n",
                            "       [0.1290283 ],\n",
                            "       [0.113158  ],\n",
                            "       [0.11562242],\n",
                            "       [0.06924921],\n",
                            "       [0.06873225],\n",
                            "       [0.10365728]], dtype=float32)"
                        ]
                    },
                    "metadata": {},
                    "execution_count": 128
                }
            ],
            "metadata": {}
        },
        {
            "cell_type": "code",
            "execution_count": 132,
            "source": [
                "predis = scaler.inverse_transform(eissoae[-7:])\r\n",
                "predis = np.round(predis).astype(int)"
            ],
            "outputs": [],
            "metadata": {}
        },
        {
            "cell_type": "code",
            "execution_count": 133,
            "source": [
                "predis"
            ],
            "outputs": [
                {
                    "output_type": "execute_result",
                    "data": {
                        "text/plain": [
                            "array([[90],\n",
                            "       [85],\n",
                            "       [75],\n",
                            "       [76],\n",
                            "       [46],\n",
                            "       [45],\n",
                            "       [69]])"
                        ]
                    },
                    "metadata": {},
                    "execution_count": 133
                }
            ],
            "metadata": {}
        },
        {
            "cell_type": "code",
            "execution_count": 136,
            "source": [
                "for e in predis:\r\n",
                "    print(int(e))"
            ],
            "outputs": [
                {
                    "output_type": "stream",
                    "name": "stdout",
                    "text": [
                        "90\n",
                        "85\n",
                        "75\n",
                        "76\n",
                        "46\n",
                        "45\n",
                        "69\n"
                    ]
                }
            ],
            "metadata": {}
        },
        {
            "cell_type": "code",
            "execution_count": 12,
            "source": [
                "x = df_filtered[-len(cases):]['datahora']"
            ],
            "outputs": [],
            "metadata": {}
        },
        {
            "cell_type": "code",
            "execution_count": 15,
            "source": [
                "scaler.inverse_transform(df_cases[-7:])"
            ],
            "outputs": [
                {
                    "output_type": "execute_result",
                    "data": {
                        "text/plain": [
                            "array([[ 76.       ],\n",
                            "       [112.       ],\n",
                            "       [ 84.       ],\n",
                            "       [118.       ],\n",
                            "       [ 14.       ],\n",
                            "       [  6.0000005],\n",
                            "       [110.       ]], dtype=float32)"
                        ]
                    },
                    "metadata": {},
                    "execution_count": 15
                }
            ],
            "metadata": {}
        },
        {
            "cell_type": "code",
            "execution_count": 13,
            "source": [
                "x"
            ],
            "outputs": [
                {
                    "output_type": "execute_result",
                    "data": {
                        "text/plain": [
                            "339505    2021-08-04\n",
                            "340150    2021-08-05\n",
                            "340795    2021-08-06\n",
                            "341440    2021-08-07\n",
                            "342085    2021-08-08\n",
                            "342730    2021-08-09\n",
                            "343375    2021-08-10\n",
                            "Name: datahora, dtype: object"
                        ]
                    },
                    "metadata": {},
                    "execution_count": 13
                }
            ],
            "metadata": {}
        },
        {
            "cell_type": "code",
            "execution_count": 105,
            "source": [
                "from datetime import datetime, timedelta"
            ],
            "outputs": [],
            "metadata": {}
        },
        {
            "cell_type": "code",
            "execution_count": 124,
            "source": [
                "y = datetime.now()\r\n",
                "y"
            ],
            "outputs": [
                {
                    "output_type": "execute_result",
                    "data": {
                        "text/plain": [
                            "datetime.datetime(2021, 8, 10, 20, 58, 14, 191347)"
                        ]
                    },
                    "metadata": {},
                    "execution_count": 124
                }
            ],
            "metadata": {}
        },
        {
            "cell_type": "code",
            "execution_count": 120,
            "source": [
                "y = y.strftime(\"%Y-%m-%d\")"
            ],
            "outputs": [],
            "metadata": {}
        },
        {
            "cell_type": "code",
            "execution_count": 121,
            "source": [
                "x"
            ],
            "outputs": [
                {
                    "output_type": "execute_result",
                    "data": {
                        "text/plain": [
                            "array(['2021-08-04', '2021-08-05', '2021-08-06', '2021-08-07',\n",
                            "       '2021-08-08', '2021-08-09', '2021-08-10'], dtype=object)"
                        ]
                    },
                    "metadata": {},
                    "execution_count": 121
                }
            ],
            "metadata": {}
        },
        {
            "cell_type": "code",
            "execution_count": 122,
            "source": [
                "if y in x:\r\n",
                "    print(1)"
            ],
            "outputs": [
                {
                    "output_type": "stream",
                    "name": "stdout",
                    "text": [
                        "1\n"
                    ]
                }
            ],
            "metadata": {}
        },
        {
            "cell_type": "code",
            "execution_count": 126,
            "source": [
                "y += timedelta(days=1)"
            ],
            "outputs": [],
            "metadata": {}
        },
        {
            "cell_type": "code",
            "execution_count": 127,
            "source": [
                "y"
            ],
            "outputs": [
                {
                    "output_type": "execute_result",
                    "data": {
                        "text/plain": [
                            "datetime.datetime(2021, 8, 11, 20, 58, 14, 191347)"
                        ]
                    },
                    "metadata": {},
                    "execution_count": 127
                }
            ],
            "metadata": {}
        },
        {
            "cell_type": "code",
            "execution_count": null,
            "source": [],
            "outputs": [],
            "metadata": {}
        }
    ],
    "metadata": {
        "orig_nbformat": 4,
        "language_info": {
            "name": "python",
            "version": "3.7.9",
            "mimetype": "text/x-python",
            "codemirror_mode": {
                "name": "ipython",
                "version": 3
            },
            "pygments_lexer": "ipython3",
            "nbconvert_exporter": "python",
            "file_extension": ".py"
        },
        "kernelspec": {
            "name": "python3",
            "display_name": "Python 3.7.9 64-bit"
        },
        "interpreter": {
            "hash": "dee797846c17e08ca05bc3ddd2fd55f3cf4fbe28d986f647c8f945c39d79c906"
        }
    },
    "nbformat": 4,
    "nbformat_minor": 2
}