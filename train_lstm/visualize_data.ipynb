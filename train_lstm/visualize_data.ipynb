{
    "cells": [
        {
            "cell_type": "code",
            "execution_count": 3,
            "source": [
                "df_loaded.head()"
            ],
            "outputs": [
                {
                    "output_type": "execute_result",
                    "data": {
                        "text/html": [
                            "<div>\n",
                            "<style scoped>\n",
                            "    .dataframe tbody tr th:only-of-type {\n",
                            "        vertical-align: middle;\n",
                            "    }\n",
                            "\n",
                            "    .dataframe tbody tr th {\n",
                            "        vertical-align: top;\n",
                            "    }\n",
                            "\n",
                            "    .dataframe thead th {\n",
                            "        text-align: right;\n",
                            "    }\n",
                            "</style>\n",
                            "<table border=\"1\" class=\"dataframe\">\n",
                            "  <thead>\n",
                            "    <tr style=\"text-align: right;\">\n",
                            "      <th></th>\n",
                            "      <th>nome_munic</th>\n",
                            "      <th>datahora</th>\n",
                            "      <th>casos_novos</th>\n",
                            "    </tr>\n",
                            "  </thead>\n",
                            "  <tbody>\n",
                            "    <tr>\n",
                            "      <th>0</th>\n",
                            "      <td>Adamantina</td>\n",
                            "      <td>2020-02-25</td>\n",
                            "      <td>0</td>\n",
                            "    </tr>\n",
                            "    <tr>\n",
                            "      <th>1</th>\n",
                            "      <td>Adolfo</td>\n",
                            "      <td>2020-02-25</td>\n",
                            "      <td>0</td>\n",
                            "    </tr>\n",
                            "    <tr>\n",
                            "      <th>2</th>\n",
                            "      <td>Aguaí</td>\n",
                            "      <td>2020-02-25</td>\n",
                            "      <td>0</td>\n",
                            "    </tr>\n",
                            "    <tr>\n",
                            "      <th>3</th>\n",
                            "      <td>Águas da Prata</td>\n",
                            "      <td>2020-02-25</td>\n",
                            "      <td>0</td>\n",
                            "    </tr>\n",
                            "    <tr>\n",
                            "      <th>4</th>\n",
                            "      <td>Águas de Lindóia</td>\n",
                            "      <td>2020-02-25</td>\n",
                            "      <td>0</td>\n",
                            "    </tr>\n",
                            "  </tbody>\n",
                            "</table>\n",
                            "</div>"
                        ],
                        "text/plain": [
                            "         nome_munic    datahora  casos_novos\n",
                            "0        Adamantina  2020-02-25            0\n",
                            "1            Adolfo  2020-02-25            0\n",
                            "2             Aguaí  2020-02-25            0\n",
                            "3    Águas da Prata  2020-02-25            0\n",
                            "4  Águas de Lindóia  2020-02-25            0"
                        ]
                    },
                    "metadata": {},
                    "execution_count": 3
                }
            ],
            "metadata": {}
        },
        {
            "cell_type": "code",
            "execution_count": 4,
            "source": [
                "df_filtered = df_loaded[df_loaded.nome_munic=='Indaiatuba']\r\n",
                "df_cases = df_filtered[:]['casos_novos'].values.astype('float32')\r\n",
                "df_cases"
            ],
            "outputs": [
                {
                    "output_type": "execute_result",
                    "data": {
                        "text/plain": [
                            "array([  0.,   0.,   0.,   0.,   0.,   0.,   0.,   0.,   0.,   0.,   0.,\n",
                            "         0.,   0.,   0.,   0.,   0.,   0.,   0.,   0.,   0.,   0.,   0.,\n",
                            "         0.,   0.,   0.,   0.,   0.,   0.,   0.,   0.,   0.,   0.,   0.,\n",
                            "         0.,   0.,   0.,   2.,   0.,   0.,   0.,   0.,   0.,   1.,   0.,\n",
                            "         0.,   0.,   1.,   0.,   0.,   0.,   0.,   2.,   3.,   0.,   0.,\n",
                            "         0.,   0.,   0.,   4.,   1.,   0.,   0.,   2.,   6.,   2.,   1.,\n",
                            "         3.,   0.,   0.,   0.,   2.,   3.,   2.,   0.,   1.,   0.,   0.,\n",
                            "         3.,   3.,   1.,   1.,  13.,   0.,   1.,   6.,   1.,  14.,  15.,\n",
                            "         3.,   3.,   0.,   2.,   1.,  14.,  10.,   1.,   2.,  16.,   5.,\n",
                            "         4.,   3.,   7.,  14.,   3.,   0.,   3.,   3.,   4.,   1.,   4.,\n",
                            "         2.,   2.,   5.,   0.,   3.,  78.,  30.,   1.,   0.,  49.,  30.,\n",
                            "        36.,  52.,  40.,   9.,   1.,  53.,  39.,  59.,  57.,   0.,   4.,\n",
                            "         5.,  20.,  21.,  12.,  10.,  12.,   2.,   4.,  18.,  16.,  32.,\n",
                            "        22.,   3.,   2.,   5.,  18.,  20.,  14.,  52.,  76.,   4.,   2.,\n",
                            "        67.,  81.,  62.,  72.,  32.,   6.,   5.,  82., 113., 130., 117.,\n",
                            "        67.,   3.,   4., 109.,  81., 113.,  52.,  29.,   8.,   3.,  24.,\n",
                            "        35.,  19.,  13.,  30.,   0.,   4.,  43.,  40.,  20.,  66.,  18.,\n",
                            "         9.,   5.,  19.,  40.,  39.,  36.,  27.,   4.,   5.,   4.,  35.,\n",
                            "         7.,  16.,  13.,   2.,   3.,  17.,   9.,   8.,   8.,  15.,   1.,\n",
                            "         0.,  29.,  55.,  27.,  11.,  16.,   0.,   1.,   8.,  19.,   6.,\n",
                            "        18.,  28.,   0.,   0.,  40.,  26., 182.,  95.,  94.,   2.,  12.,\n",
                            "         2.,  99., 158., 162.,  85.,   2.,   0.,  62.,  38.,  46.,  87.,\n",
                            "        61.,   1.,   0.,  56.,  61., 101.,  59.,   0.,   0.,   4.,  19.,\n",
                            "        10.,   8.,   0.,   0.,   0.,   0., 414.,  91., 127.,  75., 121.,\n",
                            "         2.,   2.,  62.,  40.,  56.,  57.,  55.,   2.,   5.,  31.,  48.,\n",
                            "        37.,  37.,  44.,  13.,   3., 125., 182., 302., 285., 215.,  26.,\n",
                            "        25., 251., 216., 304., 202., 231., 152., 237., 152.,   0., 661.,\n",
                            "       261., 312.,   0., 147., 260., 200.,  24.,  17.,  19.,   9.,   7.,\n",
                            "        41.,  47.,  48.,   9.,   5.,  14.,  15.,  71.,  84.,  99.,  96.,\n",
                            "        98.,  14.,  11.,  71., 111.,  76.,  83.,  68.,  19.,   6., 123.,\n",
                            "       115., 191.,  44., 145.,   9.,  19., 135.,  73., 105., 131.,  88.,\n",
                            "         4.,   2.,  11.,   8.,  58.,  36.,  63.,  13.,   7.,  55.,  63.,\n",
                            "       138., 118.,  52.,   8.,  10., 124., 162.,  72., 101., 113.,   6.,\n",
                            "         9., 110.,  91.,  59.,  55.,  26.,  16.,   4.,  11.,  26.,  39.,\n",
                            "        61.,  50.,  10.,  11.,  50.,  73.,  51.,  74.,  57.,  36.,   8.,\n",
                            "        55.,  44.,  63.,  69.,  93.,  23.,  14.,  54.,  84.,  58.,  33.,\n",
                            "        24., 120., 144.,  29.,  36., 115.,  54.,  19.,  12.,  12.,  37.,\n",
                            "       101.,  82.,  69.,  83.,  27.,  11.,  50.,  61.,  75.,  34.,  37.,\n",
                            "        59.,   4.,  50.,  63.,  12.,  61.,  67.,  23.,  21.,  75.,  72.,\n",
                            "        53.,  72., 124.,  16.,  21.,  92.,  59.,  91.,  99.,  90.,  22.,\n",
                            "         8.,  96.,  58.,  90.,  71.,  86.,  34.,  32.,  73., 107., 121.,\n",
                            "        84., 150.,  52.,  33.,  64.,  79.,  22.,  22.,  77., 151., 116.,\n",
                            "       112., 171., 137.,  44.,  93.,  52.,  81.,  15.,  22.,  51., 186.,\n",
                            "        85.,  47.,  34., 116., 104.,  54., 107., 157.,  41.,  17., 270.,\n",
                            "       264., 169., 258., 184.,  43.,  63.,  86.,  58., 151., 143.,  88.,\n",
                            "        24.,  12., 150., 134., 138., 188.,  17.,  43.,   8.,  44.,  76.,\n",
                            "        39.,  35.,  65.,  10.,  12.,  34.,  90.,  89.,  62.,  37.,  11.,\n",
                            "        10.,  60.,  80.,  75.,  28.,  96.,  19.,  17.,  76.,  76., 112.,\n",
                            "        84., 118.], dtype=float32)"
                        ]
                    },
                    "metadata": {},
                    "execution_count": 4
                }
            ],
            "metadata": {}
        },
        {
            "cell_type": "code",
            "execution_count": 14,
            "source": [
                "df_filtered[:][-20:]"
            ],
            "outputs": [
                {
                    "output_type": "execute_result",
                    "data": {
                        "text/html": [
                            "<div>\n",
                            "<style scoped>\n",
                            "    .dataframe tbody tr th:only-of-type {\n",
                            "        vertical-align: middle;\n",
                            "    }\n",
                            "\n",
                            "    .dataframe tbody tr th {\n",
                            "        vertical-align: top;\n",
                            "    }\n",
                            "\n",
                            "    .dataframe thead th {\n",
                            "        text-align: right;\n",
                            "    }\n",
                            "</style>\n",
                            "<table border=\"1\" class=\"dataframe\">\n",
                            "  <thead>\n",
                            "    <tr style=\"text-align: right;\">\n",
                            "      <th></th>\n",
                            "      <th>nome_munic</th>\n",
                            "      <th>datahora</th>\n",
                            "      <th>casos_novos</th>\n",
                            "    </tr>\n",
                            "  </thead>\n",
                            "  <tbody>\n",
                            "    <tr>\n",
                            "      <th>370147</th>\n",
                            "      <td>São Paulo</td>\n",
                            "      <td>2021-09-20</td>\n",
                            "      <td>77</td>\n",
                            "    </tr>\n",
                            "    <tr>\n",
                            "      <th>370792</th>\n",
                            "      <td>São Paulo</td>\n",
                            "      <td>2021-09-21</td>\n",
                            "      <td>391</td>\n",
                            "    </tr>\n",
                            "    <tr>\n",
                            "      <th>371437</th>\n",
                            "      <td>São Paulo</td>\n",
                            "      <td>2021-09-22</td>\n",
                            "      <td>340</td>\n",
                            "    </tr>\n",
                            "    <tr>\n",
                            "      <th>372082</th>\n",
                            "      <td>São Paulo</td>\n",
                            "      <td>2021-09-23</td>\n",
                            "      <td>294</td>\n",
                            "    </tr>\n",
                            "    <tr>\n",
                            "      <th>372727</th>\n",
                            "      <td>São Paulo</td>\n",
                            "      <td>2021-09-24</td>\n",
                            "      <td>408</td>\n",
                            "    </tr>\n",
                            "    <tr>\n",
                            "      <th>373372</th>\n",
                            "      <td>São Paulo</td>\n",
                            "      <td>2021-09-25</td>\n",
                            "      <td>238</td>\n",
                            "    </tr>\n",
                            "    <tr>\n",
                            "      <th>374017</th>\n",
                            "      <td>São Paulo</td>\n",
                            "      <td>2021-09-26</td>\n",
                            "      <td>94</td>\n",
                            "    </tr>\n",
                            "    <tr>\n",
                            "      <th>374662</th>\n",
                            "      <td>São Paulo</td>\n",
                            "      <td>2021-09-27</td>\n",
                            "      <td>60</td>\n",
                            "    </tr>\n",
                            "    <tr>\n",
                            "      <th>375307</th>\n",
                            "      <td>São Paulo</td>\n",
                            "      <td>2021-09-28</td>\n",
                            "      <td>451</td>\n",
                            "    </tr>\n",
                            "    <tr>\n",
                            "      <th>375952</th>\n",
                            "      <td>São Paulo</td>\n",
                            "      <td>2021-09-29</td>\n",
                            "      <td>232</td>\n",
                            "    </tr>\n",
                            "    <tr>\n",
                            "      <th>376597</th>\n",
                            "      <td>São Paulo</td>\n",
                            "      <td>2021-09-30</td>\n",
                            "      <td>406</td>\n",
                            "    </tr>\n",
                            "    <tr>\n",
                            "      <th>377242</th>\n",
                            "      <td>São Paulo</td>\n",
                            "      <td>2021-10-01</td>\n",
                            "      <td>252</td>\n",
                            "    </tr>\n",
                            "    <tr>\n",
                            "      <th>377887</th>\n",
                            "      <td>São Paulo</td>\n",
                            "      <td>2021-10-02</td>\n",
                            "      <td>293</td>\n",
                            "    </tr>\n",
                            "    <tr>\n",
                            "      <th>378532</th>\n",
                            "      <td>São Paulo</td>\n",
                            "      <td>2021-10-03</td>\n",
                            "      <td>70</td>\n",
                            "    </tr>\n",
                            "    <tr>\n",
                            "      <th>379177</th>\n",
                            "      <td>São Paulo</td>\n",
                            "      <td>2021-10-04</td>\n",
                            "      <td>105</td>\n",
                            "    </tr>\n",
                            "    <tr>\n",
                            "      <th>379822</th>\n",
                            "      <td>São Paulo</td>\n",
                            "      <td>2021-10-05</td>\n",
                            "      <td>612</td>\n",
                            "    </tr>\n",
                            "    <tr>\n",
                            "      <th>380467</th>\n",
                            "      <td>São Paulo</td>\n",
                            "      <td>2021-10-06</td>\n",
                            "      <td>293</td>\n",
                            "    </tr>\n",
                            "    <tr>\n",
                            "      <th>381112</th>\n",
                            "      <td>São Paulo</td>\n",
                            "      <td>2021-10-07</td>\n",
                            "      <td>192</td>\n",
                            "    </tr>\n",
                            "    <tr>\n",
                            "      <th>381757</th>\n",
                            "      <td>São Paulo</td>\n",
                            "      <td>2021-10-08</td>\n",
                            "      <td>322</td>\n",
                            "    </tr>\n",
                            "    <tr>\n",
                            "      <th>382402</th>\n",
                            "      <td>São Paulo</td>\n",
                            "      <td>2021-10-09</td>\n",
                            "      <td>424</td>\n",
                            "    </tr>\n",
                            "  </tbody>\n",
                            "</table>\n",
                            "</div>"
                        ],
                        "text/plain": [
                            "       nome_munic    datahora  casos_novos\n",
                            "370147  São Paulo  2021-09-20           77\n",
                            "370792  São Paulo  2021-09-21          391\n",
                            "371437  São Paulo  2021-09-22          340\n",
                            "372082  São Paulo  2021-09-23          294\n",
                            "372727  São Paulo  2021-09-24          408\n",
                            "373372  São Paulo  2021-09-25          238\n",
                            "374017  São Paulo  2021-09-26           94\n",
                            "374662  São Paulo  2021-09-27           60\n",
                            "375307  São Paulo  2021-09-28          451\n",
                            "375952  São Paulo  2021-09-29          232\n",
                            "376597  São Paulo  2021-09-30          406\n",
                            "377242  São Paulo  2021-10-01          252\n",
                            "377887  São Paulo  2021-10-02          293\n",
                            "378532  São Paulo  2021-10-03           70\n",
                            "379177  São Paulo  2021-10-04          105\n",
                            "379822  São Paulo  2021-10-05          612\n",
                            "380467  São Paulo  2021-10-06          293\n",
                            "381112  São Paulo  2021-10-07          192\n",
                            "381757  São Paulo  2021-10-08          322\n",
                            "382402  São Paulo  2021-10-09          424"
                        ]
                    },
                    "metadata": {},
                    "execution_count": 14
                }
            ],
            "metadata": {}
        },
        {
            "cell_type": "code",
            "execution_count": 1,
            "source": [
                "from tensorflow.keras.models import Sequential, load_model\r\n",
                "from tensorflow.keras.callbacks import LambdaCallback, ModelCheckpoint,ReduceLROnPlateau\r\n",
                "from tensorflow.keras.layers import Dense, LSTM, Dropout, Activation, GRU\r\n",
                "from sklearn.preprocessing import MinMaxScaler\r\n",
                "from sklearn.metrics import mean_squared_error, mean_absolute_error\r\n",
                "import matplotlib.pyplot as plt\r\n",
                "import numpy as np\r\n",
                "import math\r\n",
                "import os\r\n",
                "import pandas as pd\r\n",
                "\r\n",
                "url_repo = 'https://raw.githubusercontent.com/seade-R/dados-covid-sp/master/data/dados_covid_sp.csv'\r\n",
                "#url_repo = 'dados_covid_sp.csv'\r\n",
                "df_loaded = pd.read_csv(url_repo, delimiter=';', usecols=['nome_munic','casos_novos','datahora'])\r\n",
                "data = {'city':'São Paulo'}\r\n",
                "df_filtered = df_loaded[df_loaded.nome_munic==data['city']]\r\n",
                "\r\n",
                "def create_dataset(dataset, look_back=1):\r\n",
                "    dataX, dataY = [], []\r\n",
                "    for i in range(len(dataset)-look_back):\r\n",
                "        dataX.append(dataset[i:(i+look_back), 0])\r\n",
                "        dataY.append(dataset[i + look_back, 0])\r\n",
                "    return np.array(dataX), np.array(dataY)\r\n",
                "df_cases = df_filtered[:]['casos_novos'].values.astype('float32')\r\n",
                "df_cases = df_cases.reshape(len(df_cases),1)\r\n",
                "\r\n",
                "scaler = MinMaxScaler(feature_range=(0, 1))\r\n",
                "df_cases = scaler.fit_transform(df_cases)\r\n"
            ],
            "outputs": [],
            "metadata": {}
        },
        {
            "cell_type": "code",
            "execution_count": 2,
            "source": [
                "train_size = int(len(df_cases) * 0.8)\r\n",
                "test_size = len(df_cases) - train_size\r\n",
                "train, test = df_cases[0:train_size, :], df_cases[train_size:len(df_cases)+1, :]\r\n",
                "print(len(train), len(test))"
            ],
            "outputs": [
                {
                    "output_type": "stream",
                    "name": "stdout",
                    "text": [
                        "474 119\n"
                    ]
                }
            ],
            "metadata": {}
        },
        {
            "cell_type": "code",
            "execution_count": 3,
            "source": [
                "look_back = 7\r\n",
                "trainX, trainY = create_dataset(train, look_back)\r\n",
                "testX, testY = create_dataset(test, look_back)\r\n",
                "\r\n",
                "# reshape input to be [samples, time steps, features]\r\n",
                "trainX = np.reshape(trainX, (trainX.shape[0], 1, trainX.shape[1]))\r\n",
                "testX = np.reshape(testX, (testX.shape[0], 1, testX.shape[1]))"
            ],
            "outputs": [],
            "metadata": {}
        },
        {
            "cell_type": "code",
            "execution_count": 4,
            "source": [
                "from tensorflow.keras.optimizers import SGD\r\n",
                "\r\n",
                "hidden_nodes = int(2/3 * look_back)\r\n",
                "model = Sequential()\r\n",
                "model.add(LSTM(128, input_shape=(1, look_back)))\r\n",
                "model.add(Dropout(0.055))\r\n",
                "# model.add(LSTM(64, input_shape=(1, look_back)))\r\n",
                "model.add(Dense(256))\r\n",
                "#model.add(Dense(1, activation='tanh'))\r\n",
                "model.add(Dense(1, activation='tanh'))\r\n",
                "opt=SGD(learning_rate=0.001, momentum=0.9)\r\n",
                "model.compile(loss='mean_absolute_error', optimizer=opt, metrics=['mae'])\r\n",
                "\r\n",
                "history = model.fit(trainX, trainY, validation_data=(testX, testY), epochs=60, batch_size=2, verbose=1)"
            ],
            "outputs": [
                {
                    "output_type": "stream",
                    "name": "stdout",
                    "text": [
                        "Epoch 1/60\n",
                        "234/234 [==============================] - 2s 4ms/step - loss: 0.1282 - mae: 0.1282 - val_loss: 0.0844 - val_mae: 0.0844\n",
                        "Epoch 2/60\n",
                        "234/234 [==============================] - 0s 1ms/step - loss: 0.1111 - mae: 0.1111 - val_loss: 0.0809 - val_mae: 0.0809\n",
                        "Epoch 3/60\n",
                        "234/234 [==============================] - 0s 1ms/step - loss: 0.0986 - mae: 0.0986 - val_loss: 0.0679 - val_mae: 0.0679\n",
                        "Epoch 4/60\n",
                        "234/234 [==============================] - 0s 2ms/step - loss: 0.0935 - mae: 0.0935 - val_loss: 0.0621 - val_mae: 0.0621\n",
                        "Epoch 5/60\n",
                        "234/234 [==============================] - 0s 1ms/step - loss: 0.0921 - mae: 0.0921 - val_loss: 0.0631 - val_mae: 0.0631\n",
                        "Epoch 6/60\n",
                        "234/234 [==============================] - 0s 1ms/step - loss: 0.0853 - mae: 0.0853 - val_loss: 0.0629 - val_mae: 0.0629\n",
                        "Epoch 7/60\n",
                        "234/234 [==============================] - 0s 1ms/step - loss: 0.0845 - mae: 0.0845 - val_loss: 0.0557 - val_mae: 0.0557\n",
                        "Epoch 8/60\n",
                        "234/234 [==============================] - 0s 1ms/step - loss: 0.0826 - mae: 0.0826 - val_loss: 0.0529 - val_mae: 0.0529\n",
                        "Epoch 9/60\n",
                        "234/234 [==============================] - 0s 1ms/step - loss: 0.0837 - mae: 0.0837 - val_loss: 0.0510 - val_mae: 0.0510\n",
                        "Epoch 10/60\n",
                        "234/234 [==============================] - 0s 1ms/step - loss: 0.0757 - mae: 0.0757 - val_loss: 0.0534 - val_mae: 0.0534\n",
                        "Epoch 11/60\n",
                        "234/234 [==============================] - 0s 1ms/step - loss: 0.0825 - mae: 0.0825 - val_loss: 0.0592 - val_mae: 0.0592\n",
                        "Epoch 12/60\n",
                        "234/234 [==============================] - 0s 1ms/step - loss: 0.0725 - mae: 0.0725 - val_loss: 0.0504 - val_mae: 0.0504\n",
                        "Epoch 13/60\n",
                        "234/234 [==============================] - 0s 1ms/step - loss: 0.0691 - mae: 0.0691 - val_loss: 0.0494 - val_mae: 0.0494\n",
                        "Epoch 14/60\n",
                        "234/234 [==============================] - 0s 1ms/step - loss: 0.0674 - mae: 0.0674 - val_loss: 0.0625 - val_mae: 0.0625\n",
                        "Epoch 15/60\n",
                        "234/234 [==============================] - 0s 1ms/step - loss: 0.0713 - mae: 0.0713 - val_loss: 0.0486 - val_mae: 0.0486\n",
                        "Epoch 16/60\n",
                        "234/234 [==============================] - 0s 1ms/step - loss: 0.0751 - mae: 0.0751 - val_loss: 0.0533 - val_mae: 0.0533\n",
                        "Epoch 17/60\n",
                        "234/234 [==============================] - 0s 1ms/step - loss: 0.0735 - mae: 0.0735 - val_loss: 0.0529 - val_mae: 0.0529\n",
                        "Epoch 18/60\n",
                        "234/234 [==============================] - 0s 1ms/step - loss: 0.0738 - mae: 0.0738 - val_loss: 0.1001 - val_mae: 0.1001\n",
                        "Epoch 19/60\n",
                        "234/234 [==============================] - 0s 1ms/step - loss: 0.0785 - mae: 0.0785 - val_loss: 0.0500 - val_mae: 0.0500\n",
                        "Epoch 20/60\n",
                        "234/234 [==============================] - 0s 1ms/step - loss: 0.0725 - mae: 0.0725 - val_loss: 0.0591 - val_mae: 0.0591\n",
                        "Epoch 21/60\n",
                        "234/234 [==============================] - 0s 1ms/step - loss: 0.0706 - mae: 0.0706 - val_loss: 0.0492 - val_mae: 0.0492\n",
                        "Epoch 22/60\n",
                        "234/234 [==============================] - 0s 1ms/step - loss: 0.0741 - mae: 0.0741 - val_loss: 0.0494 - val_mae: 0.0494\n",
                        "Epoch 23/60\n",
                        "234/234 [==============================] - 0s 1ms/step - loss: 0.0772 - mae: 0.0772 - val_loss: 0.0855 - val_mae: 0.0855\n",
                        "Epoch 24/60\n",
                        "234/234 [==============================] - 0s 1ms/step - loss: 0.0796 - mae: 0.0796 - val_loss: 0.0506 - val_mae: 0.0506\n",
                        "Epoch 25/60\n",
                        "234/234 [==============================] - 0s 1ms/step - loss: 0.0723 - mae: 0.0723 - val_loss: 0.0485 - val_mae: 0.0485\n",
                        "Epoch 26/60\n",
                        "234/234 [==============================] - 0s 1ms/step - loss: 0.0716 - mae: 0.0716 - val_loss: 0.0715 - val_mae: 0.0715\n",
                        "Epoch 27/60\n",
                        "234/234 [==============================] - 0s 1ms/step - loss: 0.0694 - mae: 0.0694 - val_loss: 0.0489 - val_mae: 0.0489\n",
                        "Epoch 28/60\n",
                        "234/234 [==============================] - 0s 1ms/step - loss: 0.0763 - mae: 0.0763 - val_loss: 0.0488 - val_mae: 0.0488\n",
                        "Epoch 29/60\n",
                        "234/234 [==============================] - 0s 1ms/step - loss: 0.0727 - mae: 0.0727 - val_loss: 0.0655 - val_mae: 0.0655\n",
                        "Epoch 30/60\n",
                        "234/234 [==============================] - 0s 1ms/step - loss: 0.0704 - mae: 0.0704 - val_loss: 0.0486 - val_mae: 0.0486\n",
                        "Epoch 31/60\n",
                        "234/234 [==============================] - 0s 1ms/step - loss: 0.0755 - mae: 0.0755 - val_loss: 0.0589 - val_mae: 0.0589\n",
                        "Epoch 32/60\n",
                        "234/234 [==============================] - 0s 1ms/step - loss: 0.0842 - mae: 0.0842 - val_loss: 0.0484 - val_mae: 0.0484\n",
                        "Epoch 33/60\n",
                        "234/234 [==============================] - 0s 1ms/step - loss: 0.0751 - mae: 0.0751 - val_loss: 0.0483 - val_mae: 0.0483\n",
                        "Epoch 34/60\n",
                        "234/234 [==============================] - 0s 1ms/step - loss: 0.0745 - mae: 0.0745 - val_loss: 0.0485 - val_mae: 0.0485\n",
                        "Epoch 35/60\n",
                        "234/234 [==============================] - 0s 1ms/step - loss: 0.0724 - mae: 0.0724 - val_loss: 0.0543 - val_mae: 0.0543\n",
                        "Epoch 36/60\n",
                        "234/234 [==============================] - 0s 1ms/step - loss: 0.0783 - mae: 0.0783 - val_loss: 0.0500 - val_mae: 0.0500\n",
                        "Epoch 37/60\n",
                        "234/234 [==============================] - 0s 1ms/step - loss: 0.0749 - mae: 0.0749 - val_loss: 0.0487 - val_mae: 0.0487\n",
                        "Epoch 38/60\n",
                        "234/234 [==============================] - 0s 1ms/step - loss: 0.0696 - mae: 0.0696 - val_loss: 0.0485 - val_mae: 0.0485\n",
                        "Epoch 39/60\n",
                        "234/234 [==============================] - 0s 1ms/step - loss: 0.0721 - mae: 0.0721 - val_loss: 0.0553 - val_mae: 0.0553\n",
                        "Epoch 40/60\n",
                        "234/234 [==============================] - 0s 1ms/step - loss: 0.0707 - mae: 0.0707 - val_loss: 0.0690 - val_mae: 0.0690\n",
                        "Epoch 41/60\n",
                        "234/234 [==============================] - 0s 1ms/step - loss: 0.0744 - mae: 0.0744 - val_loss: 0.0482 - val_mae: 0.0482\n",
                        "Epoch 42/60\n",
                        "234/234 [==============================] - 0s 1ms/step - loss: 0.0701 - mae: 0.0701 - val_loss: 0.0508 - val_mae: 0.0508\n",
                        "Epoch 43/60\n",
                        "234/234 [==============================] - 0s 1ms/step - loss: 0.0741 - mae: 0.0741 - val_loss: 0.0497 - val_mae: 0.0497\n",
                        "Epoch 44/60\n",
                        "234/234 [==============================] - 0s 1ms/step - loss: 0.0726 - mae: 0.0726 - val_loss: 0.0493 - val_mae: 0.0493\n",
                        "Epoch 45/60\n",
                        "234/234 [==============================] - 0s 1ms/step - loss: 0.0702 - mae: 0.0702 - val_loss: 0.0513 - val_mae: 0.0513\n",
                        "Epoch 46/60\n",
                        "234/234 [==============================] - 0s 1ms/step - loss: 0.0720 - mae: 0.0720 - val_loss: 0.0483 - val_mae: 0.0483\n",
                        "Epoch 47/60\n",
                        "234/234 [==============================] - 0s 1ms/step - loss: 0.0660 - mae: 0.0660 - val_loss: 0.0490 - val_mae: 0.0490\n",
                        "Epoch 48/60\n",
                        "234/234 [==============================] - 0s 1ms/step - loss: 0.0652 - mae: 0.0652 - val_loss: 0.0483 - val_mae: 0.0483\n",
                        "Epoch 49/60\n",
                        "234/234 [==============================] - 0s 1ms/step - loss: 0.0653 - mae: 0.0653 - val_loss: 0.0499 - val_mae: 0.0499\n",
                        "Epoch 50/60\n",
                        "234/234 [==============================] - 0s 1ms/step - loss: 0.0689 - mae: 0.0689 - val_loss: 0.0490 - val_mae: 0.0490\n",
                        "Epoch 51/60\n",
                        "234/234 [==============================] - 0s 1ms/step - loss: 0.0701 - mae: 0.0701 - val_loss: 0.0593 - val_mae: 0.0593\n",
                        "Epoch 52/60\n",
                        "234/234 [==============================] - 0s 1ms/step - loss: 0.0730 - mae: 0.0730 - val_loss: 0.0512 - val_mae: 0.0512\n",
                        "Epoch 53/60\n",
                        "234/234 [==============================] - 0s 1ms/step - loss: 0.0708 - mae: 0.0708 - val_loss: 0.0485 - val_mae: 0.0485\n",
                        "Epoch 54/60\n",
                        "234/234 [==============================] - 0s 1ms/step - loss: 0.0671 - mae: 0.0671 - val_loss: 0.0710 - val_mae: 0.0710\n",
                        "Epoch 55/60\n",
                        "234/234 [==============================] - 0s 1ms/step - loss: 0.0745 - mae: 0.0745 - val_loss: 0.0703 - val_mae: 0.0703\n",
                        "Epoch 56/60\n",
                        "234/234 [==============================] - 0s 1ms/step - loss: 0.0705 - mae: 0.0705 - val_loss: 0.0527 - val_mae: 0.0527\n",
                        "Epoch 57/60\n",
                        "234/234 [==============================] - 0s 1ms/step - loss: 0.0727 - mae: 0.0727 - val_loss: 0.0500 - val_mae: 0.0500\n",
                        "Epoch 58/60\n",
                        "234/234 [==============================] - 0s 1ms/step - loss: 0.0715 - mae: 0.0715 - val_loss: 0.0485 - val_mae: 0.0485\n",
                        "Epoch 59/60\n",
                        "234/234 [==============================] - 0s 1ms/step - loss: 0.0737 - mae: 0.0737 - val_loss: 0.0621 - val_mae: 0.0621\n",
                        "Epoch 60/60\n",
                        "234/234 [==============================] - 0s 1ms/step - loss: 0.0750 - mae: 0.0750 - val_loss: 0.0535 - val_mae: 0.0535\n"
                    ]
                }
            ],
            "metadata": {}
        },
        {
            "cell_type": "code",
            "execution_count": 5,
            "source": [
                "# evaluate the model\r\n",
                "#trainY = scaler.inverse_transform(trainY)\r\n",
                "#testY = scaler.inverse_transform(testY)\r\n",
                "_, train_mse = model.evaluate(trainX, trainY, verbose=0)\r\n",
                "_, test_mse = model.evaluate(testX, testY, verbose=0)\r\n",
                "print('Train: %.3f, Test: %.3f' % (train_mse, test_mse))"
            ],
            "outputs": [
                {
                    "output_type": "stream",
                    "name": "stdout",
                    "text": [
                        "Train: 0.069, Test: 0.053\n"
                    ]
                }
            ],
            "metadata": {}
        },
        {
            "cell_type": "code",
            "execution_count": 6,
            "source": [
                "# plot loss during training\r\n",
                "plt.subplot(211)\r\n",
                "plt.title('Loss')\r\n",
                "plt.plot(history.history['loss'], label='train')\r\n",
                "plt.plot(history.history['val_loss'], label='test')\r\n",
                "plt.legend()"
            ],
            "outputs": [
                {
                    "output_type": "execute_result",
                    "data": {
                        "text/plain": [
                            "<matplotlib.legend.Legend at 0x22d314750c8>"
                        ]
                    },
                    "metadata": {},
                    "execution_count": 6
                },
                {
                    "output_type": "display_data",
                    "data": {
                        "image/png": "[encoded data removed]",
                        "text/plain": [
                            "<Figure size 432x288 with 1 Axes>"
                        ]
                    },
                    "metadata": {
                        "needs_background": "light"
                    }
                }
            ],
            "metadata": {}
        },
        {
            "cell_type": "code",
            "execution_count": 7,
            "source": [
                "# make predictions\r\n",
                "trainPredict = model.predict(trainX)\r\n",
                "testPredict = model.predict(testX)\r\n",
                "# invert predictions\r\n",
                "trainPredict = scaler.inverse_transform(trainPredict)\r\n",
                "trainY = scaler.inverse_transform([trainY])\r\n",
                "testPredict = scaler.inverse_transform(testPredict)\r\n",
                "testY = scaler.inverse_transform([testY])"
            ],
            "outputs": [],
            "metadata": {}
        },
        {
            "cell_type": "code",
            "execution_count": 8,
            "source": [
                "# calculate root mean squared error\r\n",
                "# trainScore = math.sqrt(mean_squared_error(trainY[0], trainPredict[:,0]))\r\n",
                "# print('Train Score: %.2f RMSE' % (trainScore))\r\n",
                "# trainScore = mean_absolute_error(trainY[0], trainPredict[:,0])\r\n",
                "# print('Train Score: %.2f MAE' % (trainScore))\r\n",
                "# testScore = math.sqrt(mean_squared_error(testY[0], testPredict[:,0]))\r\n",
                "# print('Test Score: %.2f RMSE' % (testScore))\r\n",
                "# testScore = mean_absolute_error(testY[0], testPredict[:,0])\r\n",
                "# print('Test Score: %.2f MAE' % (testScore))\r\n"
            ],
            "outputs": [],
            "metadata": {}
        },
        {
            "cell_type": "code",
            "execution_count": 9,
            "source": [
                "def mda(actual: np.ndarray, predicted: np.ndarray):\r\n",
                "    \"\"\" Mean Directional Accuracy \"\"\"\r\n",
                "    return np.mean((np.sign(actual[1:] - actual[:-1]) == np.sign(predicted[1:] - actual[:-1])).astype(int))"
            ],
            "outputs": [],
            "metadata": {}
        },
        {
            "cell_type": "code",
            "execution_count": 10,
            "source": [
                "train_mda = mda(trainY[0], trainPredict[:,0])\r\n",
                "test_mda = mda(testY[0], testPredict[:,0])\r\n",
                "print('Train Score: %2.2f %% of MDA' % (train_mda*100))\r\n",
                "print('Test Score: %2.2f %% of MDA' % (test_mda*100))\r\n"
            ],
            "outputs": [
                {
                    "output_type": "stream",
                    "name": "stdout",
                    "text": [
                        "Train Score: 68.67 % of MDA\n",
                        "Test Score: 65.77 % of MDA\n"
                    ]
                }
            ],
            "metadata": {}
        },
        {
            "cell_type": "code",
            "execution_count": 11,
            "source": [
                "# shift train predictions for plotting\r\n",
                "trainPredictPlot = np.empty_like(df_cases)\r\n",
                "trainPredictPlot[:, :] = np.nan\r\n",
                "trainPredictPlot[look_back-1:len(trainPredict)+look_back-1, :] = trainPredict"
            ],
            "outputs": [],
            "metadata": {}
        },
        {
            "cell_type": "code",
            "execution_count": 12,
            "source": [
                "# shift test predictions for plotting\r\n",
                "testPredictPlot = np.empty_like(df_cases)\r\n",
                "testPredictPlot[:, :] = np.nan\r\n",
                "testPredictPlot[-len(testPredict)-1:-1, :] = testPredict"
            ],
            "outputs": [],
            "metadata": {}
        },
        {
            "cell_type": "code",
            "execution_count": 13,
            "source": [
                "# plot baseline and predictions\r\n",
                "plt.plot(scaler.inverse_transform(df_cases), label='Original')\r\n",
                "plt.plot(trainPredictPlot , label='Predição do treino')\r\n",
                "plt.plot(testPredictPlot, label='Predição do teste')\r\n",
                "#plt.plot(scaler.inverse_transform([trainY]), label='?')\r\n",
                "plt.grid()\r\n",
                "#plt.xlim(300, 330)\r\n",
                "#plt.ylim(0, 400)\r\n",
                "plt.legend()\r\n",
                "plt.show()"
            ],
            "outputs": [
                {
                    "output_type": "display_data",
                    "data": {
                        "image/png": "[encoded data removed]",
                        "text/plain": [
                            "<Figure size 432x288 with 1 Axes>"
                        ]
                    },
                    "metadata": {
                        "needs_background": "light"
                    }
                }
            ],
            "metadata": {}
        },
        {
            "cell_type": "markdown",
            "source": [
                "<a href='https://www.linkedin.com/pulse/rmse-ou-mae-como-avaliar-meu-modelo-de-machine-learning-rezende/?originalSubdomain=pt'>rmse vs mae</a>"
            ],
            "metadata": {}
        },
        {
            "cell_type": "markdown",
            "source": [],
            "metadata": {}
        }
    ],
    "metadata": {
        "orig_nbformat": 4,
        "language_info": {
            "name": "python",
            "version": "3.7.9",
            "mimetype": "text/x-python",
            "codemirror_mode": {
                "name": "ipython",
                "version": 3
            },
            "pygments_lexer": "ipython3",
            "nbconvert_exporter": "python",
            "file_extension": ".py"
        },
        "kernelspec": {
            "name": "python3",
            "display_name": "Python 3.7.9 64-bit"
        },
        "interpreter": {
            "hash": "dee797846c17e08ca05bc3ddd2fd55f3cf4fbe28d986f647c8f945c39d79c906"
        }
    },
    "nbformat": 4,
    "nbformat_minor": 2
}