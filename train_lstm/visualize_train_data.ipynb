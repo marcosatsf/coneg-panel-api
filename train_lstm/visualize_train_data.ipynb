{
    "cells": [
        {
            "cell_type": "code",
            "execution_count": 1,
            "source": [
                "import pandas as pd\r\n",
                "import matplotlib.pyplot as plt\r\n",
                "import math\r\n",
                "import numpy\r\n",
                "from tensorflow.keras.models import Sequential\r\n",
                "from tensorflow.keras.layers import Dense, LSTM\r\n",
                "from sklearn.preprocessing import MinMaxScaler\r\n",
                "from sklearn.metrics import mean_squared_error"
            ],
            "outputs": [],
            "metadata": {}
        },
        {
            "cell_type": "code",
            "execution_count": 2,
            "source": [
                "url = 'https://raw.githubusercontent.com/seade-R/dados-covid-sp/master/data/dados_covid_sp.csv'\r\n",
                "df_loaded = pd.read_csv(url, delimiter=';', usecols=['nome_munic','casos_novos','datahora'])"
            ],
            "outputs": [],
            "metadata": {}
        },
        {
            "cell_type": "code",
            "execution_count": 3,
            "source": [
                "df_loaded.head()"
            ],
            "outputs": [
                {
                    "output_type": "execute_result",
                    "data": {
                        "text/plain": [
                            "         nome_munic    datahora  casos_novos\n",
                            "0        Adamantina  2020-02-25            0\n",
                            "1            Adolfo  2020-02-25            0\n",
                            "2             Aguaí  2020-02-25            0\n",
                            "3    Águas da Prata  2020-02-25            0\n",
                            "4  Águas de Lindóia  2020-02-25            0"
                        ],
                        "text/html": [
                            "<div>\n",
                            "<style scoped>\n",
                            "    .dataframe tbody tr th:only-of-type {\n",
                            "        vertical-align: middle;\n",
                            "    }\n",
                            "\n",
                            "    .dataframe tbody tr th {\n",
                            "        vertical-align: top;\n",
                            "    }\n",
                            "\n",
                            "    .dataframe thead th {\n",
                            "        text-align: right;\n",
                            "    }\n",
                            "</style>\n",
                            "<table border=\"1\" class=\"dataframe\">\n",
                            "  <thead>\n",
                            "    <tr style=\"text-align: right;\">\n",
                            "      <th></th>\n",
                            "      <th>nome_munic</th>\n",
                            "      <th>datahora</th>\n",
                            "      <th>casos_novos</th>\n",
                            "    </tr>\n",
                            "  </thead>\n",
                            "  <tbody>\n",
                            "    <tr>\n",
                            "      <th>0</th>\n",
                            "      <td>Adamantina</td>\n",
                            "      <td>2020-02-25</td>\n",
                            "      <td>0</td>\n",
                            "    </tr>\n",
                            "    <tr>\n",
                            "      <th>1</th>\n",
                            "      <td>Adolfo</td>\n",
                            "      <td>2020-02-25</td>\n",
                            "      <td>0</td>\n",
                            "    </tr>\n",
                            "    <tr>\n",
                            "      <th>2</th>\n",
                            "      <td>Aguaí</td>\n",
                            "      <td>2020-02-25</td>\n",
                            "      <td>0</td>\n",
                            "    </tr>\n",
                            "    <tr>\n",
                            "      <th>3</th>\n",
                            "      <td>Águas da Prata</td>\n",
                            "      <td>2020-02-25</td>\n",
                            "      <td>0</td>\n",
                            "    </tr>\n",
                            "    <tr>\n",
                            "      <th>4</th>\n",
                            "      <td>Águas de Lindóia</td>\n",
                            "      <td>2020-02-25</td>\n",
                            "      <td>0</td>\n",
                            "    </tr>\n",
                            "  </tbody>\n",
                            "</table>\n",
                            "</div>"
                        ]
                    },
                    "metadata": {},
                    "execution_count": 3
                }
            ],
            "metadata": {}
        },
        {
            "cell_type": "code",
            "execution_count": 4,
            "source": [
                "df_filtered = df_loaded[df_loaded.nome_munic=='Indaiatuba']\r\n",
                "df_cases = df_filtered[:]['casos_novos'].values.astype('float32')\r\n",
                "df_cases"
            ],
            "outputs": [
                {
                    "output_type": "execute_result",
                    "data": {
                        "text/plain": [
                            "array([  0.,   0.,   0.,   0.,   0.,   0.,   0.,   0.,   0.,   0.,   0.,\n",
                            "         0.,   0.,   0.,   0.,   0.,   0.,   0.,   0.,   0.,   0.,   0.,\n",
                            "         0.,   0.,   0.,   0.,   0.,   0.,   0.,   0.,   0.,   0.,   0.,\n",
                            "         0.,   0.,   0.,   2.,   0.,   0.,   0.,   0.,   0.,   1.,   0.,\n",
                            "         0.,   0.,   1.,   0.,   0.,   0.,   0.,   2.,   3.,   0.,   0.,\n",
                            "         0.,   0.,   0.,   4.,   1.,   0.,   0.,   2.,   6.,   2.,   1.,\n",
                            "         3.,   0.,   0.,   0.,   2.,   3.,   2.,   0.,   1.,   0.,   0.,\n",
                            "         3.,   3.,   1.,   1.,  13.,   0.,   1.,   6.,   1.,  14.,  15.,\n",
                            "         3.,   3.,   0.,   2.,   1.,  14.,  10.,   1.,   2.,  16.,   5.,\n",
                            "         4.,   3.,   7.,  14.,   3.,   0.,   3.,   3.,   4.,   1.,   4.,\n",
                            "         2.,   2.,   5.,   0.,   3.,  78.,  30.,   1.,   0.,  49.,  30.,\n",
                            "        36.,  52.,  40.,   9.,   1.,  53.,  39.,  59.,  57.,   0.,   4.,\n",
                            "         5.,  20.,  21.,  12.,  10.,  12.,   2.,   4.,  18.,  16.,  32.,\n",
                            "        22.,   3.,   2.,   5.,  18.,  20.,  14.,  52.,  76.,   4.,   2.,\n",
                            "        67.,  81.,  62.,  72.,  32.,   6.,   5.,  82., 113., 130., 117.,\n",
                            "        67.,   3.,   4., 109.,  81., 113.,  52.,  29.,   8.,   3.,  24.,\n",
                            "        35.,  19.,  13.,  30.,   0.,   4.,  43.,  40.,  20.,  66.,  18.,\n",
                            "         9.,   5.,  19.,  40.,  39.,  36.,  27.,   4.,   5.,   4.,  35.,\n",
                            "         7.,  16.,  13.,   2.,   3.,  17.,   9.,   8.,   8.,  15.,   1.,\n",
                            "         0.,  29.,  55.,  27.,  11.,  16.,   0.,   1.,   8.,  19.,   6.,\n",
                            "        18.,  28.,   0.,   0.,  40.,  26., 182.,  95.,  94.,   2.,  12.,\n",
                            "         2.,  99., 158., 162.,  85.,   2.,   0.,  62.,  38.,  46.,  87.,\n",
                            "        61.,   1.,   0.,  56.,  61., 101.,  59.,   0.,   0.,   4.,  19.,\n",
                            "        10.,   8.,   0.,   0.,   0.,   0., 414.,  91., 127.,  75., 121.,\n",
                            "         2.,   2.,  62.,  40.,  56.,  57.,  55.,   2.,   5.,  31.,  48.,\n",
                            "        37.,  37.,  44.,  13.,   3., 125., 182., 302., 285., 215.,  26.,\n",
                            "        25., 251., 216., 304., 202., 231., 152., 237., 152.,   0., 661.,\n",
                            "       261., 312.,   0., 147., 260., 200.,  24.,  17.,  19.,   9.,   7.,\n",
                            "        41.,  47.,  48.,   9.,   5.,  14.,  15.,  71.,  84.,  99.,  96.,\n",
                            "        98.,  14.,  11.,  71., 111.,  76.,  83.,  68.,  19.,   6., 123.,\n",
                            "       115., 191.,  44., 145.,   9.,  19., 135.,  73., 105., 131.,  88.,\n",
                            "         4.,   2.,  11.,   8.,  58.,  36.,  63.,  13.,   7.,  55.,  63.,\n",
                            "       138., 118.,  52.,   8.,  10., 124., 162.,  72., 101., 113.,   6.,\n",
                            "         9., 110.,  91.,  59.,  55.,  26.,  16.,   4.,  11.,  26.,  39.,\n",
                            "        61.,  50.,  10.,  11.,  50.,  73.,  51.,  74.,  57.,  36.,   8.,\n",
                            "        55.,  44.,  63.,  69.,  93.,  23.,  14.,  54.,  84.,  58.,  33.,\n",
                            "        24., 120., 144.,  29.,  36., 115.,  54.,  19.,  12.,  12.,  37.,\n",
                            "       101.,  82.,  69.,  83.,  27.,  11.,  50.,  61.,  75.,  34.,  37.,\n",
                            "        59.,   4.,  50.,  63.,  12.,  61.,  67.,  23.,  21.,  75.,  72.,\n",
                            "        53.,  72., 124.,  16.,  21.,  92.,  59.,  91.,  99.,  90.,  22.,\n",
                            "         8.,  96.,  58.,  90.,  71.,  86.,  34.,  32.,  73., 107., 121.,\n",
                            "        84., 150.,  52.,  33.,  64.,  79.,  22.,  22.,  77., 151., 116.,\n",
                            "       112., 171., 137.,  44.,  93.,  52.,  81.,  15.,  22.,  51., 186.,\n",
                            "        85.,  47.,  34., 116., 104.,  54., 107., 157.,  41.,  17., 270.,\n",
                            "       264., 169., 258., 184.,  43.,  63.,  86.,  58., 151., 143.,  88.,\n",
                            "        24.,  12., 150., 134., 138., 188.,  17.,  43.,   8.,  44.,  76.,\n",
                            "        39.,  35.,  65.,  10.,  12.,  34.,  90.,  89.,  62.,  37.,  11.,\n",
                            "        10.,  60.,  80.,  75.,  28.,  96.,  19.,  17.,  76.,  76., 112.,\n",
                            "        84., 118.], dtype=float32)"
                        ]
                    },
                    "metadata": {},
                    "execution_count": 4
                }
            ],
            "metadata": {}
        },
        {
            "cell_type": "code",
            "execution_count": 5,
            "source": [
                "df_filtered[:][-5:]"
            ],
            "outputs": [
                {
                    "output_type": "execute_result",
                    "data": {
                        "text/plain": [
                            "        nome_munic    datahora  casos_novos\n",
                            "338860  Indaiatuba  2021-08-03           76\n",
                            "339505  Indaiatuba  2021-08-04           76\n",
                            "340150  Indaiatuba  2021-08-05          112\n",
                            "340795  Indaiatuba  2021-08-06           84\n",
                            "341440  Indaiatuba  2021-08-07          118"
                        ],
                        "text/html": [
                            "<div>\n",
                            "<style scoped>\n",
                            "    .dataframe tbody tr th:only-of-type {\n",
                            "        vertical-align: middle;\n",
                            "    }\n",
                            "\n",
                            "    .dataframe tbody tr th {\n",
                            "        vertical-align: top;\n",
                            "    }\n",
                            "\n",
                            "    .dataframe thead th {\n",
                            "        text-align: right;\n",
                            "    }\n",
                            "</style>\n",
                            "<table border=\"1\" class=\"dataframe\">\n",
                            "  <thead>\n",
                            "    <tr style=\"text-align: right;\">\n",
                            "      <th></th>\n",
                            "      <th>nome_munic</th>\n",
                            "      <th>datahora</th>\n",
                            "      <th>casos_novos</th>\n",
                            "    </tr>\n",
                            "  </thead>\n",
                            "  <tbody>\n",
                            "    <tr>\n",
                            "      <th>338860</th>\n",
                            "      <td>Indaiatuba</td>\n",
                            "      <td>2021-08-03</td>\n",
                            "      <td>76</td>\n",
                            "    </tr>\n",
                            "    <tr>\n",
                            "      <th>339505</th>\n",
                            "      <td>Indaiatuba</td>\n",
                            "      <td>2021-08-04</td>\n",
                            "      <td>76</td>\n",
                            "    </tr>\n",
                            "    <tr>\n",
                            "      <th>340150</th>\n",
                            "      <td>Indaiatuba</td>\n",
                            "      <td>2021-08-05</td>\n",
                            "      <td>112</td>\n",
                            "    </tr>\n",
                            "    <tr>\n",
                            "      <th>340795</th>\n",
                            "      <td>Indaiatuba</td>\n",
                            "      <td>2021-08-06</td>\n",
                            "      <td>84</td>\n",
                            "    </tr>\n",
                            "    <tr>\n",
                            "      <th>341440</th>\n",
                            "      <td>Indaiatuba</td>\n",
                            "      <td>2021-08-07</td>\n",
                            "      <td>118</td>\n",
                            "    </tr>\n",
                            "  </tbody>\n",
                            "</table>\n",
                            "</div>"
                        ]
                    },
                    "metadata": {},
                    "execution_count": 5
                }
            ],
            "metadata": {}
        },
        {
            "cell_type": "code",
            "execution_count": 6,
            "source": [
                "def create_dataset(dataset, look_back=1):\r\n",
                "\tdataX, dataY = [], []\r\n",
                "\tfor i in range(len(dataset)-look_back-1):\r\n",
                "\t\tdataX.append(dataset[i:(i+look_back), 0])\r\n",
                "\t\tdataY.append(dataset[i + look_back, 0])\r\n",
                "\treturn numpy.array(dataX), numpy.array(dataY)"
            ],
            "outputs": [],
            "metadata": {}
        },
        {
            "cell_type": "code",
            "execution_count": 7,
            "source": [
                "df_cases = df_cases.reshape(len(df_cases),1)\r\n",
                "df_cases[200:230]"
            ],
            "outputs": [
                {
                    "output_type": "execute_result",
                    "data": {
                        "text/plain": [
                            "array([[ 13.],\n",
                            "       [  2.],\n",
                            "       [  3.],\n",
                            "       [ 17.],\n",
                            "       [  9.],\n",
                            "       [  8.],\n",
                            "       [  8.],\n",
                            "       [ 15.],\n",
                            "       [  1.],\n",
                            "       [  0.],\n",
                            "       [ 29.],\n",
                            "       [ 55.],\n",
                            "       [ 27.],\n",
                            "       [ 11.],\n",
                            "       [ 16.],\n",
                            "       [  0.],\n",
                            "       [  1.],\n",
                            "       [  8.],\n",
                            "       [ 19.],\n",
                            "       [  6.],\n",
                            "       [ 18.],\n",
                            "       [ 28.],\n",
                            "       [  0.],\n",
                            "       [  0.],\n",
                            "       [ 40.],\n",
                            "       [ 26.],\n",
                            "       [182.],\n",
                            "       [ 95.],\n",
                            "       [ 94.],\n",
                            "       [  2.]], dtype=float32)"
                        ]
                    },
                    "metadata": {},
                    "execution_count": 7
                }
            ],
            "metadata": {}
        },
        {
            "cell_type": "code",
            "execution_count": 8,
            "source": [
                "numpy.random.seed(7)\r\n",
                "\r\n",
                "scaler = MinMaxScaler(feature_range=(0, 1))\r\n",
                "df_cases = scaler.fit_transform(df_cases)"
            ],
            "outputs": [],
            "metadata": {}
        },
        {
            "cell_type": "code",
            "execution_count": 9,
            "source": [
                "df_cases.shape\r\n",
                "df_cases[200:230]"
            ],
            "outputs": [
                {
                    "output_type": "execute_result",
                    "data": {
                        "text/plain": [
                            "array([[0.01966717],\n",
                            "       [0.00302572],\n",
                            "       [0.00453858],\n",
                            "       [0.02571861],\n",
                            "       [0.01361573],\n",
                            "       [0.01210287],\n",
                            "       [0.01210287],\n",
                            "       [0.02269289],\n",
                            "       [0.00151286],\n",
                            "       [0.        ],\n",
                            "       [0.04387292],\n",
                            "       [0.08320726],\n",
                            "       [0.0408472 ],\n",
                            "       [0.01664145],\n",
                            "       [0.02420575],\n",
                            "       [0.        ],\n",
                            "       [0.00151286],\n",
                            "       [0.01210287],\n",
                            "       [0.02874433],\n",
                            "       [0.00907716],\n",
                            "       [0.02723147],\n",
                            "       [0.04236006],\n",
                            "       [0.        ],\n",
                            "       [0.        ],\n",
                            "       [0.06051437],\n",
                            "       [0.03933434],\n",
                            "       [0.27534038],\n",
                            "       [0.14372163],\n",
                            "       [0.14220877],\n",
                            "       [0.00302572]], dtype=float32)"
                        ]
                    },
                    "metadata": {},
                    "execution_count": 9
                }
            ],
            "metadata": {}
        },
        {
            "cell_type": "code",
            "execution_count": 11,
            "source": [
                "train_size = int(len(df_cases) * 0.8)\r\n",
                "test_size = len(df_cases) - train_size\r\n",
                "train, test = df_cases[0:train_size, :], df_cases[train_size:len(df_cases)+1, :]\r\n",
                "print(len(train), len(test))"
            ],
            "outputs": [
                {
                    "output_type": "stream",
                    "name": "stdout",
                    "text": [
                        "424 106\n"
                    ]
                }
            ],
            "metadata": {}
        },
        {
            "cell_type": "code",
            "execution_count": 12,
            "source": [
                "train[:10]"
            ],
            "outputs": [
                {
                    "output_type": "execute_result",
                    "data": {
                        "text/plain": [
                            "array([[0.],\n",
                            "       [0.],\n",
                            "       [0.],\n",
                            "       [0.],\n",
                            "       [0.],\n",
                            "       [0.],\n",
                            "       [0.],\n",
                            "       [0.],\n",
                            "       [0.],\n",
                            "       [0.]], dtype=float32)"
                        ]
                    },
                    "metadata": {},
                    "execution_count": 12
                }
            ],
            "metadata": {}
        },
        {
            "cell_type": "code",
            "execution_count": 13,
            "source": [
                "look_back = 4\r\n",
                "trainX, trainY = create_dataset(train, look_back)\r\n",
                "testX, testY = create_dataset(test, look_back)"
            ],
            "outputs": [],
            "metadata": {}
        },
        {
            "cell_type": "code",
            "execution_count": 14,
            "source": [
                "scaler.inverse_transform(trainX)[-5:]"
            ],
            "outputs": [
                {
                    "output_type": "execute_result",
                    "data": {
                        "text/plain": [
                            "array([[60.999996, 75.      , 34.      , 37.      ],\n",
                            "       [75.      , 34.      , 37.      , 59.      ],\n",
                            "       [34.      , 37.      , 59.      ,  4.      ],\n",
                            "       [37.      , 59.      ,  4.      , 50.000004],\n",
                            "       [59.      ,  4.      , 50.000004, 62.999996]], dtype=float32)"
                        ]
                    },
                    "metadata": {},
                    "execution_count": 14
                }
            ],
            "metadata": {}
        },
        {
            "cell_type": "code",
            "execution_count": 15,
            "source": [
                "numpy.reshape(scaler.inverse_transform([trainY])[0], (trainY.shape[0], 1))[-5:]"
            ],
            "outputs": [
                {
                    "output_type": "execute_result",
                    "data": {
                        "text/plain": [
                            "array([[58.99999831],\n",
                            "       [ 4.        ],\n",
                            "       [50.00000215],\n",
                            "       [62.99999769],\n",
                            "       [12.00000062]])"
                        ]
                    },
                    "metadata": {},
                    "execution_count": 15
                }
            ],
            "metadata": {}
        },
        {
            "cell_type": "code",
            "execution_count": 16,
            "source": [
                "trainX.shape"
            ],
            "outputs": [
                {
                    "output_type": "execute_result",
                    "data": {
                        "text/plain": [
                            "(419, 4)"
                        ]
                    },
                    "metadata": {},
                    "execution_count": 16
                }
            ],
            "metadata": {}
        },
        {
            "cell_type": "code",
            "execution_count": 17,
            "source": [
                "trainY.shape"
            ],
            "outputs": [
                {
                    "output_type": "execute_result",
                    "data": {
                        "text/plain": [
                            "(419,)"
                        ]
                    },
                    "metadata": {},
                    "execution_count": 17
                }
            ],
            "metadata": {}
        },
        {
            "cell_type": "code",
            "execution_count": 18,
            "source": [
                "# reshape input to be [samples, time steps, features]\r\n",
                "trainX = numpy.reshape(trainX, (trainX.shape[0], 1, trainX.shape[1]))\r\n",
                "testX = numpy.reshape(testX, (testX.shape[0], 1, testX.shape[1]))"
            ],
            "outputs": [],
            "metadata": {}
        },
        {
            "cell_type": "code",
            "execution_count": 19,
            "source": [
                "trainX.shape"
            ],
            "outputs": [
                {
                    "output_type": "execute_result",
                    "data": {
                        "text/plain": [
                            "(419, 1, 4)"
                        ]
                    },
                    "metadata": {},
                    "execution_count": 19
                }
            ],
            "metadata": {}
        },
        {
            "cell_type": "code",
            "execution_count": 20,
            "source": [
                "model = Sequential()\r\n",
                "model.add(LSTM(4, input_shape=(1, look_back)))\r\n",
                "# model.add(Dense(8))\r\n",
                "model.add(Dense(2))\r\n",
                "model.add(Dense(1))\r\n",
                "model.compile(loss='mean_squared_error', optimizer='adam')\r\n",
                "model.fit(trainX, trainY, epochs=40, batch_size=1, verbose=2)"
            ],
            "outputs": [
                {
                    "output_type": "stream",
                    "name": "stdout",
                    "text": [
                        "Epoch 1/40\n",
                        "419/419 - 1s - loss: 0.0076\n",
                        "Epoch 2/40\n",
                        "419/419 - 0s - loss: 0.0072\n",
                        "Epoch 3/40\n",
                        "419/419 - 0s - loss: 0.0069\n",
                        "Epoch 4/40\n",
                        "419/419 - 0s - loss: 0.0069\n",
                        "Epoch 5/40\n",
                        "419/419 - 0s - loss: 0.0068\n",
                        "Epoch 6/40\n",
                        "419/419 - 0s - loss: 0.0067\n",
                        "Epoch 7/40\n",
                        "419/419 - 0s - loss: 0.0066\n",
                        "Epoch 8/40\n",
                        "419/419 - 0s - loss: 0.0067\n",
                        "Epoch 9/40\n",
                        "419/419 - 0s - loss: 0.0066\n",
                        "Epoch 10/40\n",
                        "419/419 - 0s - loss: 0.0067\n",
                        "Epoch 11/40\n",
                        "419/419 - 0s - loss: 0.0065\n",
                        "Epoch 12/40\n",
                        "419/419 - 0s - loss: 0.0064\n",
                        "Epoch 13/40\n",
                        "419/419 - 0s - loss: 0.0066\n",
                        "Epoch 14/40\n",
                        "419/419 - 0s - loss: 0.0066\n",
                        "Epoch 15/40\n",
                        "419/419 - 0s - loss: 0.0065\n",
                        "Epoch 16/40\n",
                        "419/419 - 0s - loss: 0.0065\n",
                        "Epoch 17/40\n",
                        "419/419 - 0s - loss: 0.0065\n",
                        "Epoch 18/40\n",
                        "419/419 - 0s - loss: 0.0064\n",
                        "Epoch 19/40\n",
                        "419/419 - 0s - loss: 0.0065\n",
                        "Epoch 20/40\n",
                        "419/419 - 0s - loss: 0.0065\n",
                        "Epoch 21/40\n",
                        "419/419 - 0s - loss: 0.0065\n",
                        "Epoch 22/40\n",
                        "419/419 - 0s - loss: 0.0065\n",
                        "Epoch 23/40\n",
                        "419/419 - 0s - loss: 0.0063\n",
                        "Epoch 24/40\n",
                        "419/419 - 0s - loss: 0.0065\n",
                        "Epoch 25/40\n",
                        "419/419 - 0s - loss: 0.0065\n",
                        "Epoch 26/40\n",
                        "419/419 - 0s - loss: 0.0064\n",
                        "Epoch 27/40\n",
                        "419/419 - 0s - loss: 0.0065\n",
                        "Epoch 28/40\n",
                        "419/419 - 0s - loss: 0.0064\n",
                        "Epoch 29/40\n",
                        "419/419 - 0s - loss: 0.0064\n",
                        "Epoch 30/40\n",
                        "419/419 - 0s - loss: 0.0063\n",
                        "Epoch 31/40\n",
                        "419/419 - 0s - loss: 0.0064\n",
                        "Epoch 32/40\n",
                        "419/419 - 0s - loss: 0.0063\n",
                        "Epoch 33/40\n",
                        "419/419 - 0s - loss: 0.0064\n",
                        "Epoch 34/40\n",
                        "419/419 - 0s - loss: 0.0064\n",
                        "Epoch 35/40\n",
                        "419/419 - 0s - loss: 0.0063\n",
                        "Epoch 36/40\n",
                        "419/419 - 0s - loss: 0.0064\n",
                        "Epoch 37/40\n",
                        "419/419 - 0s - loss: 0.0064\n",
                        "Epoch 38/40\n",
                        "419/419 - 0s - loss: 0.0063\n",
                        "Epoch 39/40\n",
                        "419/419 - 0s - loss: 0.0062\n",
                        "Epoch 40/40\n",
                        "419/419 - 0s - loss: 0.0064\n"
                    ]
                },
                {
                    "output_type": "execute_result",
                    "data": {
                        "text/plain": [
                            "<tensorflow.python.keras.callbacks.History at 0x2a82c308888>"
                        ]
                    },
                    "metadata": {},
                    "execution_count": 20
                }
            ],
            "metadata": {}
        },
        {
            "cell_type": "code",
            "execution_count": 21,
            "source": [
                "score = model.summary()\r\n",
                "print(score)"
            ],
            "outputs": [
                {
                    "output_type": "stream",
                    "name": "stdout",
                    "text": [
                        "Model: \"sequential\"\n",
                        "_________________________________________________________________\n",
                        "Layer (type)                 Output Shape              Param #   \n",
                        "=================================================================\n",
                        "lstm (LSTM)                  (None, 4)                 144       \n",
                        "_________________________________________________________________\n",
                        "dense (Dense)                (None, 2)                 10        \n",
                        "_________________________________________________________________\n",
                        "dense_1 (Dense)              (None, 1)                 3         \n",
                        "=================================================================\n",
                        "Total params: 157\n",
                        "Trainable params: 157\n",
                        "Non-trainable params: 0\n",
                        "_________________________________________________________________\n",
                        "None\n"
                    ]
                }
            ],
            "metadata": {}
        },
        {
            "cell_type": "code",
            "execution_count": 22,
            "source": [
                "# make predictions\r\n",
                "trainPredict = model.predict(trainX)\r\n",
                "testPredict = model.predict(testX)\r\n",
                "# invert predictions\r\n",
                "trainPredict = scaler.inverse_transform(trainPredict)\r\n",
                "trainY = scaler.inverse_transform([trainY])\r\n",
                "testPredict = scaler.inverse_transform(testPredict)\r\n",
                "testY = scaler.inverse_transform([testY])\r\n",
                "# calculate root mean squared error\r\n",
                "trainScore = math.sqrt(mean_squared_error(trainY[0], trainPredict[:,0]))\r\n",
                "print('Train Score: %.2f RMSE' % (trainScore))\r\n",
                "testScore = math.sqrt(mean_squared_error(testY[0], testPredict[:,0]))\r\n",
                "print('Test Score: %.2f RMSE' % (testScore))"
            ],
            "outputs": [
                {
                    "output_type": "stream",
                    "name": "stdout",
                    "text": [
                        "Train Score: 51.60 RMSE\n",
                        "Test Score: 54.18 RMSE\n"
                    ]
                }
            ],
            "metadata": {}
        },
        {
            "cell_type": "code",
            "execution_count": 23,
            "source": [
                "testPredict = model.predict(testX)\r\n",
                "testPredict = scaler.inverse_transform(testPredict)"
            ],
            "outputs": [],
            "metadata": {}
        },
        {
            "cell_type": "code",
            "execution_count": 24,
            "source": [
                "v = scaler.inverse_transform(test)\r\n",
                "v[-20:]"
            ],
            "outputs": [
                {
                    "output_type": "execute_result",
                    "data": {
                        "text/plain": [
                            "array([[ 12.000001],\n",
                            "       [ 34.      ],\n",
                            "       [ 90.      ],\n",
                            "       [ 89.      ],\n",
                            "       [ 62.      ],\n",
                            "       [ 37.      ],\n",
                            "       [ 11.      ],\n",
                            "       [ 10.      ],\n",
                            "       [ 60.      ],\n",
                            "       [ 80.      ],\n",
                            "       [ 75.      ],\n",
                            "       [ 28.      ],\n",
                            "       [ 96.00001 ],\n",
                            "       [ 19.      ],\n",
                            "       [ 17.      ],\n",
                            "       [ 76.      ],\n",
                            "       [ 76.      ],\n",
                            "       [112.      ],\n",
                            "       [ 84.      ],\n",
                            "       [118.      ]], dtype=float32)"
                        ]
                    },
                    "metadata": {},
                    "execution_count": 24
                }
            ],
            "metadata": {}
        },
        {
            "cell_type": "code",
            "execution_count": 25,
            "source": [
                "testPredict[-20:]"
            ],
            "outputs": [
                {
                    "output_type": "execute_result",
                    "data": {
                        "text/plain": [
                            "array([[58.14413 ],\n",
                            "       [25.24632 ],\n",
                            "       [23.110653],\n",
                            "       [38.34676 ],\n",
                            "       [60.829353],\n",
                            "       [65.27303 ],\n",
                            "       [52.15808 ],\n",
                            "       [49.189316],\n",
                            "       [34.13352 ],\n",
                            "       [26.062122],\n",
                            "       [47.164005],\n",
                            "       [58.619415],\n",
                            "       [54.830822],\n",
                            "       [39.523224],\n",
                            "       [73.1362  ],\n",
                            "       [38.728848],\n",
                            "       [25.853706],\n",
                            "       [65.8767  ],\n",
                            "       [59.04834 ],\n",
                            "       [73.09198 ]], dtype=float32)"
                        ]
                    },
                    "metadata": {},
                    "execution_count": 25
                }
            ],
            "metadata": {}
        },
        {
            "cell_type": "code",
            "execution_count": 26,
            "source": [
                "# shift train predictions for plotting\r\n",
                "trainPredictPlot = numpy.empty_like(df_cases)\r\n",
                "trainPredictPlot[:, :] = numpy.nan\r\n",
                "trainPredictPlot[look_back:len(trainPredict)+look_back, :] = trainPredict"
            ],
            "outputs": [],
            "metadata": {}
        },
        {
            "cell_type": "code",
            "execution_count": 27,
            "source": [
                "# shift test predictions for plotting\r\n",
                "testPredictPlot = numpy.empty_like(df_cases)\r\n",
                "testPredictPlot[:, :] = numpy.nan\r\n",
                "testPredictPlot[len(trainPredict)+(look_back*2)+1:len(df_cases)-1, :] = testPredict"
            ],
            "outputs": [],
            "metadata": {}
        },
        {
            "cell_type": "code",
            "execution_count": 28,
            "source": [
                "scaler.inverse_transform(df_cases)[415:435]"
            ],
            "outputs": [
                {
                    "output_type": "execute_result",
                    "data": {
                        "text/plain": [
                            "array([[ 75.      ],\n",
                            "       [ 34.      ],\n",
                            "       [ 37.      ],\n",
                            "       [ 59.      ],\n",
                            "       [  4.      ],\n",
                            "       [ 50.000004],\n",
                            "       [ 62.999996],\n",
                            "       [ 12.000001],\n",
                            "       [ 60.999996],\n",
                            "       [ 67.      ],\n",
                            "       [ 22.999998],\n",
                            "       [ 21.      ],\n",
                            "       [ 75.      ],\n",
                            "       [ 72.      ],\n",
                            "       [ 53.      ],\n",
                            "       [ 72.      ],\n",
                            "       [124.      ],\n",
                            "       [ 16.      ],\n",
                            "       [ 21.      ],\n",
                            "       [ 91.99999 ]], dtype=float32)"
                        ]
                    },
                    "metadata": {},
                    "execution_count": 28
                }
            ],
            "metadata": {}
        },
        {
            "cell_type": "code",
            "execution_count": 29,
            "source": [
                "testPredict[0:20]"
            ],
            "outputs": [
                {
                    "output_type": "execute_result",
                    "data": {
                        "text/plain": [
                            "array([[60.76181 ],\n",
                            "       [57.154144],\n",
                            "       [44.44279 ],\n",
                            "       [62.448223],\n",
                            "       [89.43559 ],\n",
                            "       [35.387367],\n",
                            "       [38.674477],\n",
                            "       [78.90037 ],\n",
                            "       [50.879707],\n",
                            "       [61.38866 ],\n",
                            "       [81.83686 ],\n",
                            "       [70.98712 ],\n",
                            "       [43.764282],\n",
                            "       [36.0399  ],\n",
                            "       [74.23822 ],\n",
                            "       [52.53559 ],\n",
                            "       [58.210884],\n",
                            "       [68.53244 ],\n",
                            "       [66.85507 ],\n",
                            "       [48.624172]], dtype=float32)"
                        ]
                    },
                    "metadata": {},
                    "execution_count": 29
                }
            ],
            "metadata": {}
        },
        {
            "cell_type": "code",
            "execution_count": 30,
            "source": [
                "# plot baseline and predictions\r\n",
                "plt.plot(scaler.inverse_transform(df_cases), label='Original')\r\n",
                "plt.plot(trainPredictPlot , label='Predição do treino')\r\n",
                "plt.plot(testPredictPlot, label='Predição do teste')\r\n",
                "#plt.plot(scaler.inverse_transform([trainY]), label='?')\r\n",
                "plt.xlim(415,440)\r\n",
                "plt.ylim(0, 200)\r\n",
                "plt.legend()\r\n",
                "plt.show()"
            ],
            "outputs": [
                {
                    "output_type": "display_data",
                    "data": {
                        "text/plain": [
                            "<Figure size 432x288 with 1 Axes>"
                        ],
                        "image/png": "[encoded data removed]"
                    },
                    "metadata": {
                        "needs_background": "light"
                    }
                }
            ],
            "metadata": {}
        },
        {
            "cell_type": "code",
            "execution_count": 87,
            "source": [
                "plt.plot(scaler.inverse_transform(trainX) , label='TreinoX')\r\n",
                "plt.plot(scaler.inverse_transform(numpy.reshape(trainY, (trainY.shape[0], 1))), label='TreinoY')\r\n",
                "#plt.plot(scaler.inverse_transform([trainY]), label='?')\r\n",
                "plt.xlim(400,440)\r\n",
                "# plt.ylim(0, 200)\r\n",
                "plt.legend()\r\n",
                "plt.show()"
            ],
            "outputs": [
                {
                    "output_type": "display_data",
                    "data": {
                        "text/plain": [
                            "<Figure size 432x288 with 1 Axes>"
                        ],
                        "image/png": "[encoded data removed]"
                    },
                    "metadata": {
                        "needs_background": "light"
                    }
                }
            ],
            "metadata": {}
        },
        {
            "cell_type": "code",
            "execution_count": 41,
            "source": [
                "from tensorflow.keras.models import Sequential, load_model\r\n",
                "from tensorflow.keras.callbacks import LambdaCallback, ModelCheckpoint,ReduceLROnPlateau\r\n",
                "from tensorflow.keras.layers import Dense, LSTM, Dropout, Activation\r\n",
                "from sklearn.preprocessing import MinMaxScaler\r\n",
                "from sklearn.metrics import mean_squared_error, mean_absolute_error\r\n",
                "import matplotlib.pyplot as plt\r\n",
                "import numpy as np\r\n",
                "import math\r\n",
                "import os\r\n",
                "import pandas as pd\r\n",
                "\r\n",
                "url_repo = 'https://raw.githubusercontent.com/seade-R/dados-covid-sp/master/data/dados_covid_sp.csv'\r\n",
                "url_repo = 'dados_covid_sp.csv'\r\n",
                "df_loaded = pd.read_csv(url_repo, delimiter=';', usecols=['nome_munic','casos_novos','datahora'])\r\n",
                "data = {'city':'Indaiatuba'}\r\n",
                "df_filtered = df_loaded[df_loaded.nome_munic==data['city']]\r\n",
                "\r\n",
                "def create_dataset(dataset, look_back=1):\r\n",
                "    dataX, dataY = [], []\r\n",
                "    for i in range(len(dataset)-look_back):\r\n",
                "        dataX.append(dataset[i:(i+look_back), 0])\r\n",
                "        dataY.append(dataset[i + look_back, 0])\r\n",
                "    return np.array(dataX), np.array(dataY)\r\n",
                "\r\n",
                "df_cases = df_filtered[:]['casos_novos'].values.astype('float32')\r\n",
                "df_cases = df_cases.reshape(len(df_cases),1)\r\n",
                "\r\n",
                "scaler = MinMaxScaler(feature_range=(0, 1))\r\n",
                "df_cases = scaler.fit_transform(df_cases)\r\n"
            ],
            "outputs": [],
            "metadata": {}
        },
        {
            "cell_type": "code",
            "execution_count": 42,
            "source": [
                "train_size = int(len(df_cases) * 0.8)\r\n",
                "test_size = len(df_cases) - train_size\r\n",
                "train, test = df_cases[0:train_size, :], df_cases[train_size:len(df_cases)+1, :]\r\n",
                "print(len(train), len(test))"
            ],
            "outputs": [
                {
                    "output_type": "stream",
                    "name": "stdout",
                    "text": [
                        "414 104\n"
                    ]
                }
            ],
            "metadata": {}
        },
        {
            "cell_type": "code",
            "execution_count": 43,
            "source": [
                "look_back = 7\r\n",
                "trainX, trainY = create_dataset(df_cases, look_back)\r\n",
                "testX, testY = create_dataset(df_cases, look_back)\r\n",
                "\r\n",
                "# reshape input to be [samples, time steps, features]\r\n",
                "trainX = np.reshape(trainX, (trainX.shape[0], 1, trainX.shape[1]))\r\n",
                "testX = np.reshape(testX, (testX.shape[0], 1, testX.shape[1]))"
            ],
            "outputs": [],
            "metadata": {}
        },
        {
            "cell_type": "code",
            "execution_count": 44,
            "source": [
                "hidden_nodes = int(2/3 * look_back)\r\n",
                "model = Sequential()\r\n",
                "model.add(LSTM(hidden_nodes, input_shape=(1, look_back)))\r\n",
                "model.add(Dropout(0.0055))\r\n",
                "model.add(Dense(hidden_nodes*2))\r\n",
                "#model.add(Dropout(0.0055))\r\n",
                "model.add(Dense(1, activation='tanh'))\r\n",
                "model.compile(loss='mean_squared_error', optimizer='adam')\r\n",
                "\r\n",
                "model.fit(trainX, trainY, epochs=30, batch_size=1, verbose=1)"
            ],
            "outputs": [
                {
                    "output_type": "stream",
                    "name": "stdout",
                    "text": [
                        "Epoch 1/30\n",
                        "511/511 [==============================] - 1s 713us/step - loss: 0.0182\n",
                        "Epoch 2/30\n",
                        "511/511 [==============================] - 0s 734us/step - loss: 0.0094\n",
                        "Epoch 3/30\n",
                        "511/511 [==============================] - 0s 707us/step - loss: 0.0162\n",
                        "Epoch 4/30\n",
                        "511/511 [==============================] - 0s 695us/step - loss: 0.0062\n",
                        "Epoch 5/30\n",
                        "511/511 [==============================] - 0s 738us/step - loss: 0.0078\n",
                        "Epoch 6/30\n",
                        "511/511 [==============================] - 0s 697us/step - loss: 0.0077\n",
                        "Epoch 7/30\n",
                        "511/511 [==============================] - 0s 704us/step - loss: 0.0061\n",
                        "Epoch 8/30\n",
                        "511/511 [==============================] - 0s 716us/step - loss: 0.0069\n",
                        "Epoch 9/30\n",
                        "511/511 [==============================] - 0s 686us/step - loss: 0.0062\n",
                        "Epoch 10/30\n",
                        "511/511 [==============================] - 0s 717us/step - loss: 0.0039\n",
                        "Epoch 11/30\n",
                        "511/511 [==============================] - 0s 703us/step - loss: 0.0078\n",
                        "Epoch 12/30\n",
                        "511/511 [==============================] - 0s 694us/step - loss: 0.0052\n",
                        "Epoch 13/30\n",
                        "511/511 [==============================] - 0s 706us/step - loss: 0.0067\n",
                        "Epoch 14/30\n",
                        "511/511 [==============================] - 0s 695us/step - loss: 0.0057\n",
                        "Epoch 15/30\n",
                        "511/511 [==============================] - 0s 685us/step - loss: 0.0054\n",
                        "Epoch 16/30\n",
                        "511/511 [==============================] - 0s 695us/step - loss: 0.0068\n",
                        "Epoch 17/30\n",
                        "511/511 [==============================] - 0s 707us/step - loss: 0.0070\n",
                        "Epoch 18/30\n",
                        "511/511 [==============================] - 0s 697us/step - loss: 0.0060\n",
                        "Epoch 19/30\n",
                        "511/511 [==============================] - 0s 718us/step - loss: 0.0078\n",
                        "Epoch 20/30\n",
                        "511/511 [==============================] - 0s 723us/step - loss: 0.0063\n",
                        "Epoch 21/30\n",
                        "511/511 [==============================] - 0s 736us/step - loss: 0.0054\n",
                        "Epoch 22/30\n",
                        "511/511 [==============================] - 0s 740us/step - loss: 0.0052\n",
                        "Epoch 23/30\n",
                        "511/511 [==============================] - 0s 708us/step - loss: 0.0068\n",
                        "Epoch 24/30\n",
                        "511/511 [==============================] - 0s 703us/step - loss: 0.0046\n",
                        "Epoch 25/30\n",
                        "511/511 [==============================] - 0s 720us/step - loss: 0.0061\n",
                        "Epoch 26/30\n",
                        "511/511 [==============================] - 0s 735us/step - loss: 0.0061\n",
                        "Epoch 27/30\n",
                        "511/511 [==============================] - 0s 740us/step - loss: 0.0050\n",
                        "Epoch 28/30\n",
                        "511/511 [==============================] - 0s 731us/step - loss: 0.0051\n",
                        "Epoch 29/30\n",
                        "511/511 [==============================] - 0s 740us/step - loss: 0.0051\n",
                        "Epoch 30/30\n",
                        "511/511 [==============================] - 0s 741us/step - loss: 0.0037\n"
                    ]
                },
                {
                    "output_type": "execute_result",
                    "data": {
                        "text/plain": [
                            "<tensorflow.python.keras.callbacks.History at 0x175abd43b88>"
                        ]
                    },
                    "metadata": {},
                    "execution_count": 44
                }
            ],
            "metadata": {}
        },
        {
            "cell_type": "code",
            "execution_count": 45,
            "source": [
                "score = model.summary()\r\n",
                "print(score)"
            ],
            "outputs": [
                {
                    "output_type": "stream",
                    "name": "stdout",
                    "text": [
                        "Model: \"sequential_4\"\n",
                        "_________________________________________________________________\n",
                        "Layer (type)                 Output Shape              Param #   \n",
                        "=================================================================\n",
                        "lstm_4 (LSTM)                (None, 4)                 192       \n",
                        "_________________________________________________________________\n",
                        "dropout_4 (Dropout)          (None, 4)                 0         \n",
                        "_________________________________________________________________\n",
                        "dense_8 (Dense)              (None, 8)                 40        \n",
                        "_________________________________________________________________\n",
                        "dense_9 (Dense)              (None, 1)                 9         \n",
                        "=================================================================\n",
                        "Total params: 241\n",
                        "Trainable params: 241\n",
                        "Non-trainable params: 0\n",
                        "_________________________________________________________________\n",
                        "None\n"
                    ]
                }
            ],
            "metadata": {}
        },
        {
            "cell_type": "code",
            "execution_count": 46,
            "source": [
                "# make predictions\r\n",
                "trainPredict = model.predict(trainX)\r\n",
                "testPredict = model.predict(testX)\r\n",
                "# invert predictions\r\n",
                "trainPredict = scaler.inverse_transform(trainPredict)\r\n",
                "trainY = scaler.inverse_transform([trainY])\r\n",
                "testPredict = scaler.inverse_transform(testPredict)\r\n",
                "testY = scaler.inverse_transform([testY])\r\n",
                "# calculate root mean squared error\r\n",
                "trainScore = math.sqrt(mean_squared_error(trainY[0], trainPredict[:,0]))\r\n",
                "print('Train Score: %.2f RMSE' % (trainScore))\r\n",
                "trainScore = mean_absolute_error(trainY[0], trainPredict[:,0])\r\n",
                "print('Train Score: %.2f MAE' % (trainScore))\r\n",
                "testScore = math.sqrt(mean_squared_error(testY[0], testPredict[:,0]))\r\n",
                "print('Test Score: %.2f RMSE' % (testScore))\r\n",
                "testScore = mean_absolute_error(testY[0], testPredict[:,0])\r\n",
                "print('Train Score: %.2f MAE' % (testScore))"
            ],
            "outputs": [
                {
                    "output_type": "stream",
                    "name": "stdout",
                    "text": [
                        "Train Score: 51.83 RMSE\n",
                        "Train Score: 34.31 MAE\n",
                        "Test Score: 51.83 RMSE\n",
                        "Train Score: 34.31 MAE\n"
                    ]
                }
            ],
            "metadata": {}
        },
        {
            "cell_type": "code",
            "execution_count": 47,
            "source": [
                "# shift train predictions for plotting\r\n",
                "trainPredictPlot = np.empty_like(df_cases)\r\n",
                "trainPredictPlot[:, :] = np.nan\r\n",
                "trainPredictPlot[look_back:len(trainPredict)+look_back, :] = trainPredict\r\n",
                "print(look_back,len(trainPredict),len(df_cases))"
            ],
            "outputs": [
                {
                    "output_type": "stream",
                    "name": "stdout",
                    "text": [
                        "7 511 518\n"
                    ]
                }
            ],
            "metadata": {}
        },
        {
            "cell_type": "code",
            "execution_count": 48,
            "source": [
                "# shift test predictions for plotting\r\n",
                "testPredictPlot = np.empty_like(df_cases)\r\n",
                "testPredictPlot[:, :] = np.nan\r\n",
                "testPredictPlot[len(trainPredict)+(look_back*2)+1:len(df_cases)-1, :] = testPredict"
            ],
            "outputs": [
                {
                    "output_type": "error",
                    "ename": "ValueError",
                    "evalue": "could not broadcast input array from shape (511,1) into shape (0,1)",
                    "traceback": [
                        "\u001b[1;31m---------------------------------------------------------------------------\u001b[0m",
                        "\u001b[1;31mValueError\u001b[0m                                Traceback (most recent call last)",
                        "\u001b[1;32m<ipython-input-48-e152014cec1b>\u001b[0m in \u001b[0;36m<module>\u001b[1;34m\u001b[0m\n\u001b[0;32m      2\u001b[0m \u001b[0mtestPredictPlot\u001b[0m \u001b[1;33m=\u001b[0m \u001b[0mnp\u001b[0m\u001b[1;33m.\u001b[0m\u001b[0mempty_like\u001b[0m\u001b[1;33m(\u001b[0m\u001b[0mdf_cases\u001b[0m\u001b[1;33m)\u001b[0m\u001b[1;33m\u001b[0m\u001b[1;33m\u001b[0m\u001b[0m\n\u001b[0;32m      3\u001b[0m \u001b[0mtestPredictPlot\u001b[0m\u001b[1;33m[\u001b[0m\u001b[1;33m:\u001b[0m\u001b[1;33m,\u001b[0m \u001b[1;33m:\u001b[0m\u001b[1;33m]\u001b[0m \u001b[1;33m=\u001b[0m \u001b[0mnp\u001b[0m\u001b[1;33m.\u001b[0m\u001b[0mnan\u001b[0m\u001b[1;33m\u001b[0m\u001b[1;33m\u001b[0m\u001b[0m\n\u001b[1;32m----> 4\u001b[1;33m \u001b[0mtestPredictPlot\u001b[0m\u001b[1;33m[\u001b[0m\u001b[0mlen\u001b[0m\u001b[1;33m(\u001b[0m\u001b[0mtrainPredict\u001b[0m\u001b[1;33m)\u001b[0m\u001b[1;33m+\u001b[0m\u001b[1;33m(\u001b[0m\u001b[0mlook_back\u001b[0m\u001b[1;33m*\u001b[0m\u001b[1;36m2\u001b[0m\u001b[1;33m)\u001b[0m\u001b[1;33m+\u001b[0m\u001b[1;36m1\u001b[0m\u001b[1;33m:\u001b[0m\u001b[0mlen\u001b[0m\u001b[1;33m(\u001b[0m\u001b[0mdf_cases\u001b[0m\u001b[1;33m)\u001b[0m\u001b[1;33m-\u001b[0m\u001b[1;36m1\u001b[0m\u001b[1;33m,\u001b[0m \u001b[1;33m:\u001b[0m\u001b[1;33m]\u001b[0m \u001b[1;33m=\u001b[0m \u001b[0mtestPredict\u001b[0m\u001b[1;33m\u001b[0m\u001b[1;33m\u001b[0m\u001b[0m\n\u001b[0m",
                        "\u001b[1;31mValueError\u001b[0m: could not broadcast input array from shape (511,1) into shape (0,1)"
                    ]
                }
            ],
            "metadata": {}
        },
        {
            "cell_type": "code",
            "execution_count": null,
            "source": [
                "# plot baseline and predictions\r\n",
                "plt.plot(scaler.inverse_transform(df_cases), label='Original')\r\n",
                "plt.plot(trainPredictPlot , label='Predição do treino')\r\n",
                "plt.plot(testPredictPlot, label='Predição do teste')\r\n",
                "#plt.plot(scaler.inverse_transform([trainY]), label='?')\r\n",
                "plt.xlim(415,440)\r\n",
                "plt.ylim(0, 200)\r\n",
                "plt.legend()\r\n",
                "plt.show()"
            ],
            "outputs": [
                {
                    "output_type": "error",
                    "ename": "NameError",
                    "evalue": "name 'plt' is not defined",
                    "traceback": [
                        "\u001b[1;31m---------------------------------------------------------------------------\u001b[0m",
                        "\u001b[1;31mNameError\u001b[0m                                 Traceback (most recent call last)",
                        "\u001b[1;32m<ipython-input-19-ec6488724694>\u001b[0m in \u001b[0;36m<module>\u001b[1;34m\u001b[0m\n\u001b[0;32m      1\u001b[0m \u001b[1;31m# plot baseline and predictions\u001b[0m\u001b[1;33m\u001b[0m\u001b[1;33m\u001b[0m\u001b[1;33m\u001b[0m\u001b[0m\n\u001b[1;32m----> 2\u001b[1;33m \u001b[0mplt\u001b[0m\u001b[1;33m.\u001b[0m\u001b[0mplot\u001b[0m\u001b[1;33m(\u001b[0m\u001b[0mscaler\u001b[0m\u001b[1;33m.\u001b[0m\u001b[0minverse_transform\u001b[0m\u001b[1;33m(\u001b[0m\u001b[0mdf_cases\u001b[0m\u001b[1;33m)\u001b[0m\u001b[1;33m,\u001b[0m \u001b[0mlabel\u001b[0m\u001b[1;33m=\u001b[0m\u001b[1;34m'Original'\u001b[0m\u001b[1;33m)\u001b[0m\u001b[1;33m\u001b[0m\u001b[1;33m\u001b[0m\u001b[0m\n\u001b[0m\u001b[0;32m      3\u001b[0m \u001b[0mplt\u001b[0m\u001b[1;33m.\u001b[0m\u001b[0mplot\u001b[0m\u001b[1;33m(\u001b[0m\u001b[0mtrainPredictPlot\u001b[0m \u001b[1;33m,\u001b[0m \u001b[0mlabel\u001b[0m\u001b[1;33m=\u001b[0m\u001b[1;34m'Predição do treino'\u001b[0m\u001b[1;33m)\u001b[0m\u001b[1;33m\u001b[0m\u001b[1;33m\u001b[0m\u001b[0m\n\u001b[0;32m      4\u001b[0m \u001b[0mplt\u001b[0m\u001b[1;33m.\u001b[0m\u001b[0mplot\u001b[0m\u001b[1;33m(\u001b[0m\u001b[0mtestPredictPlot\u001b[0m\u001b[1;33m,\u001b[0m \u001b[0mlabel\u001b[0m\u001b[1;33m=\u001b[0m\u001b[1;34m'Predição do teste'\u001b[0m\u001b[1;33m)\u001b[0m\u001b[1;33m\u001b[0m\u001b[1;33m\u001b[0m\u001b[0m\n\u001b[0;32m      5\u001b[0m \u001b[1;31m#plt.plot(scaler.inverse_transform([trainY]), label='?')\u001b[0m\u001b[1;33m\u001b[0m\u001b[1;33m\u001b[0m\u001b[1;33m\u001b[0m\u001b[0m\n",
                        "\u001b[1;31mNameError\u001b[0m: name 'plt' is not defined"
                    ]
                }
            ],
            "metadata": {}
        },
        {
            "cell_type": "markdown",
            "source": [
                "Model: \"sequential_14\"\r\n",
                "_________________________________________________________________\r\n",
                "Layer (type)                 Output Shape              Param #   \r\n",
                "=================================================================\r\n",
                "lstm_14 (LSTM)               (None, 4)                 192       \r\n",
                "_________________________________________________________________\r\n",
                "dropout_7 (Dropout)          (None, 4)                 0         \r\n",
                "_________________________________________________________________\r\n",
                "dense_21 (Dense)             (None, 8)                 40        \r\n",
                "_________________________________________________________________\r\n",
                "dropout_8 (Dropout)          (None, 8)                 0         \r\n",
                "_________________________________________________________________\r\n",
                "dense_22 (Dense)             (None, 8)                 72        \r\n",
                "_________________________________________________________________\r\n",
                "dropout_9 (Dropout)          (None, 8)                 0         \r\n",
                "_________________________________________________________________\r\n",
                "dense_23 (Dense)             (None, 1)                 9         \r\n",
                "=================================================================\r\n",
                "Total params: 313\r\n",
                "Trainable params: 313\r\n",
                "Non-trainable params: 0\r\n",
                "_________________________________________________________________\r\n",
                "None\r\n",
                "\r\n",
                "Train Score: 48.76 RMSE"
            ],
            "metadata": {}
        },
        {
            "cell_type": "markdown",
            "source": [
                "Model: \"sequential\"\r\n",
                "_________________________________________________________________\r\n",
                "Layer (type)                 Output Shape              Param #   \r\n",
                "=================================================================\r\n",
                "lstm (LSTM)                  (None, 4)                 128       \r\n",
                "_________________________________________________________________\r\n",
                "dense (Dense)                (None, 1)                 5         \r\n",
                "=================================================================\r\n",
                "Total params: 133\r\n",
                "Trainable params: 133\r\n",
                "Non-trainable params: 0\r\n",
                "_________________________________________________________________\r\n",
                "None\r\n",
                "\r\n",
                "Train Score: 52.45 RMSE - Root Mean Squared Error"
            ],
            "metadata": {}
        },
        {
            "cell_type": "markdown",
            "source": [
                "Model: \"sequential_3\"\r\n",
                "_________________________________________________________________\r\n",
                "Layer (type)                 Output Shape              Param #   \r\n",
                "=================================================================\r\n",
                "lstm_3 (LSTM)                (None, 3)                 84        \r\n",
                "_________________________________________________________________\r\n",
                "dense_4 (Dense)              (None, 4)                 16        \r\n",
                "_________________________________________________________________\r\n",
                "dense_5 (Dense)              (None, 1)                 5         \r\n",
                "=================================================================\r\n",
                "Total params: 105\r\n",
                "Trainable params: 105\r\n",
                "Non-trainable params: 0\r\n",
                "_________________________________________________________________\r\n",
                "None\r\n",
                "\r\n",
                "Train Score: 52.48 RMSE"
            ],
            "metadata": {}
        },
        {
            "cell_type": "markdown",
            "source": [
                "Model: \"sequential_1\"\r\n",
                "_________________________________________________________________\r\n",
                "Layer (type)                 Output Shape              Param #   \r\n",
                "=================================================================\r\n",
                "lstm_1 (LSTM)                (None, 4)                 128       \r\n",
                "_________________________________________________________________\r\n",
                "dense_1 (Dense)              (None, 4)                 20        \r\n",
                "_________________________________________________________________\r\n",
                "dense_2 (Dense)              (None, 1)                 5         \r\n",
                "=================================================================\r\n",
                "Total params: 153\r\n",
                "Trainable params: 153\r\n",
                "Non-trainable params: 0\r\n",
                "_________________________________________________________________\r\n",
                "None\r\n",
                "\r\n",
                "Train Score: 52.59 RMSE"
            ],
            "metadata": {}
        },
        {
            "cell_type": "markdown",
            "source": [
                "Model: \"sequential_2\"\r\n",
                "_________________________________________________________________\r\n",
                "Layer (type)                 Output Shape              Param #   \r\n",
                "=================================================================\r\n",
                "lstm_2 (LSTM)                (None, 7)                 308       \r\n",
                "_________________________________________________________________\r\n",
                "dense_3 (Dense)              (None, 1)                 8         \r\n",
                "=================================================================\r\n",
                "Total params: 316\r\n",
                "Trainable params: 316\r\n",
                "Non-trainable params: 0\r\n",
                "_________________________________________________________________\r\n",
                "None\r\n",
                "\r\n",
                "Train Score: 52.65 RMSE"
            ],
            "metadata": {}
        },
        {
            "cell_type": "markdown",
            "source": [
                "Model: \"sequential_1\"\r\n",
                "_________________________________________________________________\r\n",
                "Layer (type)                 Output Shape              Param #   \r\n",
                "=================================================================\r\n",
                "lstm_1 (LSTM)                (None, 4)                 192       \r\n",
                "_________________________________________________________________\r\n",
                "dense_2 (Dense)              (None, 8)                 40        \r\n",
                "_________________________________________________________________\r\n",
                "dense_3 (Dense)              (None, 1)                 9         \r\n",
                "=================================================================\r\n",
                "Total params: 241\r\n",
                "Trainable params: 241\r\n",
                "Non-trainable params: 0\r\n",
                "_________________________________________________________________\r\n",
                "None\r\n",
                "\r\n",
                "Train Score: 50.81 RMSE"
            ],
            "metadata": {}
        },
        {
            "cell_type": "code",
            "execution_count": 66,
            "source": [
                "#trainX = np.reshape(trainX, (trainX.shape[0], 1, trainX.shape[1]))\r\n",
                "x = model.predict(df_cases[-7:].reshape(1, 1, 7))\r\n",
                "testPredict = scaler.inverse_transform(x)\r\n",
                "testPredict"
            ],
            "outputs": [
                {
                    "output_type": "execute_result",
                    "data": {
                        "text/plain": [
                            "array([[90.316154]], dtype=float32)"
                        ]
                    },
                    "metadata": {},
                    "execution_count": 66
                }
            ],
            "metadata": {}
        },
        {
            "cell_type": "code",
            "execution_count": 86,
            "source": [
                "cases = df_cases[-7:]\r\n",
                "new=np.append(cases,testPredict,axis=0)\r\n",
                "cases"
            ],
            "outputs": [
                {
                    "output_type": "execute_result",
                    "data": {
                        "text/plain": [
                            "array([[0.1149773 ],\n",
                            "       [0.16944024],\n",
                            "       [0.12708017],\n",
                            "       [0.17851739],\n",
                            "       [0.02118003],\n",
                            "       [0.00907716],\n",
                            "       [0.16641451]], dtype=float32)"
                        ]
                    },
                    "metadata": {},
                    "execution_count": 86
                }
            ],
            "metadata": {}
        },
        {
            "cell_type": "code",
            "execution_count": 83,
            "source": [
                "new"
            ],
            "outputs": [
                {
                    "output_type": "execute_result",
                    "data": {
                        "text/plain": [
                            "array([[1.1497730e-01],\n",
                            "       [1.6944024e-01],\n",
                            "       [1.2708017e-01],\n",
                            "       [1.7851739e-01],\n",
                            "       [2.1180030e-02],\n",
                            "       [9.0771560e-03],\n",
                            "       [1.6641451e-01],\n",
                            "       [9.0316154e+01]], dtype=float32)"
                        ]
                    },
                    "metadata": {},
                    "execution_count": 83
                }
            ],
            "metadata": {}
        },
        {
            "cell_type": "code",
            "execution_count": 85,
            "source": [
                "np.delete(new, 0, axis=0)"
            ],
            "outputs": [
                {
                    "output_type": "execute_result",
                    "data": {
                        "text/plain": [
                            "array([[1.6944024e-01],\n",
                            "       [1.2708017e-01],\n",
                            "       [1.7851739e-01],\n",
                            "       [2.1180030e-02],\n",
                            "       [9.0771560e-03],\n",
                            "       [1.6641451e-01],\n",
                            "       [9.0316154e+01]], dtype=float32)"
                        ]
                    },
                    "metadata": {},
                    "execution_count": 85
                }
            ],
            "metadata": {}
        },
        {
            "cell_type": "code",
            "execution_count": 11,
            "source": [
                "cases = df_cases[-7:]\r\n",
                "for _ in range(7):\r\n",
                "    pred_day = model.predict(cases.reshape(1, 1, 7))\r\n",
                "    cases = np.append(cases,pred_day,axis=0)\r\n",
                "    cases = np.delete(cases, 0, axis=0)\r\n",
                "eissoae = np.append(df_cases[-7:],cases,axis=0)"
            ],
            "outputs": [],
            "metadata": {}
        },
        {
            "cell_type": "code",
            "execution_count": 128,
            "source": [
                "eissoae"
            ],
            "outputs": [
                {
                    "output_type": "execute_result",
                    "data": {
                        "text/plain": [
                            "array([[0.1149773 ],\n",
                            "       [0.16944024],\n",
                            "       [0.12708017],\n",
                            "       [0.17851739],\n",
                            "       [0.02118003],\n",
                            "       [0.00907716],\n",
                            "       [0.16641451],\n",
                            "       [0.13663563],\n",
                            "       [0.1290283 ],\n",
                            "       [0.113158  ],\n",
                            "       [0.11562242],\n",
                            "       [0.06924921],\n",
                            "       [0.06873225],\n",
                            "       [0.10365728]], dtype=float32)"
                        ]
                    },
                    "metadata": {},
                    "execution_count": 128
                }
            ],
            "metadata": {}
        },
        {
            "cell_type": "code",
            "execution_count": 132,
            "source": [
                "predis = scaler.inverse_transform(eissoae[-7:])\r\n",
                "predis = np.round(predis).astype(int)"
            ],
            "outputs": [],
            "metadata": {}
        },
        {
            "cell_type": "code",
            "execution_count": 133,
            "source": [
                "predis"
            ],
            "outputs": [
                {
                    "output_type": "execute_result",
                    "data": {
                        "text/plain": [
                            "array([[90],\n",
                            "       [85],\n",
                            "       [75],\n",
                            "       [76],\n",
                            "       [46],\n",
                            "       [45],\n",
                            "       [69]])"
                        ]
                    },
                    "metadata": {},
                    "execution_count": 133
                }
            ],
            "metadata": {}
        },
        {
            "cell_type": "code",
            "execution_count": 136,
            "source": [
                "for e in predis:\r\n",
                "    print(int(e))"
            ],
            "outputs": [
                {
                    "output_type": "stream",
                    "name": "stdout",
                    "text": [
                        "90\n",
                        "85\n",
                        "75\n",
                        "76\n",
                        "46\n",
                        "45\n",
                        "69\n"
                    ]
                }
            ],
            "metadata": {}
        },
        {
            "cell_type": "code",
            "execution_count": 12,
            "source": [
                "x = df_filtered[-len(cases):]['datahora']"
            ],
            "outputs": [],
            "metadata": {}
        },
        {
            "cell_type": "code",
            "execution_count": 15,
            "source": [
                "scaler.inverse_transform(df_cases[-7:])"
            ],
            "outputs": [
                {
                    "output_type": "execute_result",
                    "data": {
                        "text/plain": [
                            "array([[ 76.       ],\n",
                            "       [112.       ],\n",
                            "       [ 84.       ],\n",
                            "       [118.       ],\n",
                            "       [ 14.       ],\n",
                            "       [  6.0000005],\n",
                            "       [110.       ]], dtype=float32)"
                        ]
                    },
                    "metadata": {},
                    "execution_count": 15
                }
            ],
            "metadata": {}
        },
        {
            "cell_type": "code",
            "execution_count": 13,
            "source": [
                "x"
            ],
            "outputs": [
                {
                    "output_type": "execute_result",
                    "data": {
                        "text/plain": [
                            "339505    2021-08-04\n",
                            "340150    2021-08-05\n",
                            "340795    2021-08-06\n",
                            "341440    2021-08-07\n",
                            "342085    2021-08-08\n",
                            "342730    2021-08-09\n",
                            "343375    2021-08-10\n",
                            "Name: datahora, dtype: object"
                        ]
                    },
                    "metadata": {},
                    "execution_count": 13
                }
            ],
            "metadata": {}
        },
        {
            "cell_type": "code",
            "execution_count": 105,
            "source": [
                "from datetime import datetime, timedelta"
            ],
            "outputs": [],
            "metadata": {}
        },
        {
            "cell_type": "code",
            "execution_count": 124,
            "source": [
                "y = datetime.now()\r\n",
                "y"
            ],
            "outputs": [
                {
                    "output_type": "execute_result",
                    "data": {
                        "text/plain": [
                            "datetime.datetime(2021, 8, 10, 20, 58, 14, 191347)"
                        ]
                    },
                    "metadata": {},
                    "execution_count": 124
                }
            ],
            "metadata": {}
        },
        {
            "cell_type": "code",
            "execution_count": 120,
            "source": [
                "y = y.strftime(\"%Y-%m-%d\")"
            ],
            "outputs": [],
            "metadata": {}
        },
        {
            "cell_type": "code",
            "execution_count": 121,
            "source": [
                "x"
            ],
            "outputs": [
                {
                    "output_type": "execute_result",
                    "data": {
                        "text/plain": [
                            "array(['2021-08-04', '2021-08-05', '2021-08-06', '2021-08-07',\n",
                            "       '2021-08-08', '2021-08-09', '2021-08-10'], dtype=object)"
                        ]
                    },
                    "metadata": {},
                    "execution_count": 121
                }
            ],
            "metadata": {}
        },
        {
            "cell_type": "code",
            "execution_count": 122,
            "source": [
                "if y in x:\r\n",
                "    print(1)"
            ],
            "outputs": [
                {
                    "output_type": "stream",
                    "name": "stdout",
                    "text": [
                        "1\n"
                    ]
                }
            ],
            "metadata": {}
        },
        {
            "cell_type": "code",
            "execution_count": 126,
            "source": [
                "y += timedelta(days=1)"
            ],
            "outputs": [],
            "metadata": {}
        },
        {
            "cell_type": "code",
            "execution_count": 127,
            "source": [
                "y"
            ],
            "outputs": [
                {
                    "output_type": "execute_result",
                    "data": {
                        "text/plain": [
                            "datetime.datetime(2021, 8, 11, 20, 58, 14, 191347)"
                        ]
                    },
                    "metadata": {},
                    "execution_count": 127
                }
            ],
            "metadata": {}
        },
        {
            "cell_type": "code",
            "execution_count": null,
            "source": [],
            "outputs": [],
            "metadata": {}
        }
    ],
    "metadata": {
        "orig_nbformat": 4,
        "language_info": {
            "name": "python",
            "version": "3.7.9",
            "mimetype": "text/x-python",
            "codemirror_mode": {
                "name": "ipython",
                "version": 3
            },
            "pygments_lexer": "ipython3",
            "nbconvert_exporter": "python",
            "file_extension": ".py"
        },
        "kernelspec": {
            "name": "python3",
            "display_name": "Python 3.7.9 64-bit"
        },
        "interpreter": {
            "hash": "dee797846c17e08ca05bc3ddd2fd55f3cf4fbe28d986f647c8f945c39d79c906"
        }
    },
    "nbformat": 4,
    "nbformat_minor": 2
}